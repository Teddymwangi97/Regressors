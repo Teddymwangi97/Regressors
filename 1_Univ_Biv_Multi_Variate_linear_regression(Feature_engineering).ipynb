{
  "cells": [
    {
      "cell_type": "markdown",
      "metadata": {
        "id": "view-in-github",
        "colab_type": "text"
      },
      "source": [
        "<a href=\"https://colab.research.google.com/github/Teddymwangi97/Regressors/blob/main/1_Univ_Biv_Multi_Variate_linear_regression(Feature_engineering).ipynb\" target=\"_parent\"><img src=\"https://colab.research.google.com/assets/colab-badge.svg\" alt=\"Open In Colab\"/></a>"
      ]
    },
    {
      "cell_type": "markdown",
      "metadata": {
        "id": "ZAQFzWP8cfl8"
      },
      "source": [
        "<h2 style=\"color:green\" align=\"center\">Machine Learning With Python: Linear Regression With One Variable</h2>"
      ]
    },
    {
      "cell_type": "markdown",
      "metadata": {
        "id": "edVbPmzGcfmL"
      },
      "source": [
        "<h3 style=\"color:purple\">Sample problem of predicting home price in monroe, new jersey (USA)</h3>"
      ]
    },
    {
      "cell_type": "markdown",
      "metadata": {
        "id": "_VNB09fHcfmM"
      },
      "source": [
        "Below table represents current home prices in monroe township based on square feet area, new jersey"
      ]
    },
    {
      "cell_type": "markdown",
      "metadata": {
        "id": "QbBXxesrcfmN"
      },
      "source": [
        "![homepricetable.JPG](attachment:homepricetable.JPG)"
      ]
    },
    {
      "cell_type": "markdown",
      "metadata": {
        "id": "pOnmi6AqcfmP"
      },
      "source": [
        "**Problem Statement**: Given above data build a machine learning model that can predict home prices based on square feet area\n"
      ]
    },
    {
      "cell_type": "code",
      "execution_count": null,
      "metadata": {
        "id": "X8oseN4vcfm5"
      },
      "outputs": [],
      "source": [
        "import pandas as pd\n",
        "import numpy as np\n",
        "from sklearn import linear_model\n",
        "import matplotlib.pyplot as plt\n",
        "\n",
        "import warnings\n",
        "warnings.filterwarnings(\"ignore\")"
      ]
    },
    {
      "cell_type": "code",
      "execution_count": null,
      "metadata": {
        "id": "QzDOOozicfm8",
        "outputId": "d991fbf2-0059-4fa2-959d-9e8f42cfa895"
      },
      "outputs": [
        {
          "data": {
            "text/html": [
              "<div>\n",
              "<style scoped>\n",
              "    .dataframe tbody tr th:only-of-type {\n",
              "        vertical-align: middle;\n",
              "    }\n",
              "\n",
              "    .dataframe tbody tr th {\n",
              "        vertical-align: top;\n",
              "    }\n",
              "\n",
              "    .dataframe thead th {\n",
              "        text-align: right;\n",
              "    }\n",
              "</style>\n",
              "<table border=\"1\" class=\"dataframe\">\n",
              "  <thead>\n",
              "    <tr style=\"text-align: right;\">\n",
              "      <th></th>\n",
              "      <th>area</th>\n",
              "      <th>bedrooms</th>\n",
              "      <th>age</th>\n",
              "      <th>price</th>\n",
              "    </tr>\n",
              "  </thead>\n",
              "  <tbody>\n",
              "    <tr>\n",
              "      <th>0</th>\n",
              "      <td>2600</td>\n",
              "      <td>3.0</td>\n",
              "      <td>20</td>\n",
              "      <td>550000</td>\n",
              "    </tr>\n",
              "    <tr>\n",
              "      <th>1</th>\n",
              "      <td>3000</td>\n",
              "      <td>4.0</td>\n",
              "      <td>15</td>\n",
              "      <td>565000</td>\n",
              "    </tr>\n",
              "    <tr>\n",
              "      <th>2</th>\n",
              "      <td>3200</td>\n",
              "      <td>NaN</td>\n",
              "      <td>18</td>\n",
              "      <td>610000</td>\n",
              "    </tr>\n",
              "    <tr>\n",
              "      <th>3</th>\n",
              "      <td>4000</td>\n",
              "      <td>5.0</td>\n",
              "      <td>8</td>\n",
              "      <td>760000</td>\n",
              "    </tr>\n",
              "    <tr>\n",
              "      <th>4</th>\n",
              "      <td>4100</td>\n",
              "      <td>6.0</td>\n",
              "      <td>8</td>\n",
              "      <td>810000</td>\n",
              "    </tr>\n",
              "    <tr>\n",
              "      <th>5</th>\n",
              "      <td>3600</td>\n",
              "      <td>3.0</td>\n",
              "      <td>30</td>\n",
              "      <td>595000</td>\n",
              "    </tr>\n",
              "  </tbody>\n",
              "</table>\n",
              "</div>"
            ],
            "text/plain": [
              "   area  bedrooms  age   price\n",
              "0  2600       3.0   20  550000\n",
              "1  3000       4.0   15  565000\n",
              "2  3200       NaN   18  610000\n",
              "3  4000       5.0    8  760000\n",
              "4  4100       6.0    8  810000\n",
              "5  3600       3.0   30  595000"
            ]
          },
          "execution_count": 46,
          "metadata": {},
          "output_type": "execute_result"
        }
      ],
      "source": [
        "df = pd.read_csv('homeprices.csv')\n",
        "df.head(10)"
      ]
    },
    {
      "cell_type": "code",
      "execution_count": null,
      "metadata": {
        "id": "20_0FW2wcfm_",
        "outputId": "2df71061-94fb-4a7c-c689-3783d255d29f"
      },
      "outputs": [
        {
          "data": {
            "text/plain": [
              "6"
            ]
          },
          "execution_count": 47,
          "metadata": {},
          "output_type": "execute_result"
        }
      ],
      "source": [
        "# Check for uniqueness for area\n",
        "df['area'].nunique()"
      ]
    },
    {
      "cell_type": "code",
      "execution_count": null,
      "metadata": {
        "id": "K0-eCRPncfnB",
        "outputId": "48626349-1c0e-4440-f0f6-41a3328fd408"
      },
      "outputs": [
        {
          "data": {
            "text/plain": [
              "6"
            ]
          },
          "execution_count": 48,
          "metadata": {},
          "output_type": "execute_result"
        }
      ],
      "source": [
        "# Check for uniqueness for price\n",
        "df.price.nunique()"
      ]
    },
    {
      "cell_type": "code",
      "execution_count": null,
      "metadata": {
        "id": "xZGfALwQcfnD",
        "outputId": "c10a81fc-01ba-4003-955d-2d53869fb3d9"
      },
      "outputs": [
        {
          "data": {
            "text/plain": [
              "<matplotlib.collections.PathCollection at 0x22ff68fbf70>"
            ]
          },
          "execution_count": 49,
          "metadata": {},
          "output_type": "execute_result"
        },
        {
          "data": {
            "image/png": "[encoded data removed]",
            "text/plain": [
              "<Figure size 640x480 with 1 Axes>"
            ]
          },
          "metadata": {},
          "output_type": "display_data"
        }
      ],
      "source": [
        "%matplotlib inline\n",
        "plt.xlabel('area')\n",
        "plt.ylabel('price')\n",
        "plt.scatter(df.area,df.price,color='red',marker='+')"
      ]
    },
    {
      "cell_type": "code",
      "execution_count": null,
      "metadata": {
        "id": "PsEMW5vhcfnE"
      },
      "outputs": [],
      "source": []
    },
    {
      "cell_type": "code",
      "execution_count": null,
      "metadata": {
        "id": "qO-Y1AAncfnF",
        "outputId": "cf00e7a0-b9d3-42d0-88c0-0c4bf261b5ba"
      },
      "outputs": [
        {
          "data": {
            "text/plain": [
              "Index(['area', 'bedrooms', 'age', 'price'], dtype='object')"
            ]
          },
          "execution_count": 50,
          "metadata": {},
          "output_type": "execute_result"
        }
      ],
      "source": [
        "# Extracting the columns\n",
        "df.columns"
      ]
    },
    {
      "cell_type": "markdown",
      "metadata": {
        "id": "VoES2M-5cfnM"
      },
      "source": [
        "## Univariate Analysis"
      ]
    },
    {
      "cell_type": "code",
      "execution_count": null,
      "metadata": {
        "id": "XoHkpd0McfnN"
      },
      "outputs": [],
      "source": [
        "# 1. For the first case we compare the area(independent) with price(dependent)"
      ]
    },
    {
      "cell_type": "code",
      "execution_count": null,
      "metadata": {
        "id": "wr-p9f8acfnP",
        "outputId": "a2e55d3d-0159-4859-f7d6-a6db796d47db"
      },
      "outputs": [
        {
          "data": {
            "text/html": [
              "<div>\n",
              "<style scoped>\n",
              "    .dataframe tbody tr th:only-of-type {\n",
              "        vertical-align: middle;\n",
              "    }\n",
              "\n",
              "    .dataframe tbody tr th {\n",
              "        vertical-align: top;\n",
              "    }\n",
              "\n",
              "    .dataframe thead th {\n",
              "        text-align: right;\n",
              "    }\n",
              "</style>\n",
              "<table border=\"1\" class=\"dataframe\">\n",
              "  <thead>\n",
              "    <tr style=\"text-align: right;\">\n",
              "      <th></th>\n",
              "      <th>area</th>\n",
              "      <th>price</th>\n",
              "    </tr>\n",
              "  </thead>\n",
              "  <tbody>\n",
              "    <tr>\n",
              "      <th>0</th>\n",
              "      <td>2600</td>\n",
              "      <td>550000</td>\n",
              "    </tr>\n",
              "    <tr>\n",
              "      <th>1</th>\n",
              "      <td>3000</td>\n",
              "      <td>565000</td>\n",
              "    </tr>\n",
              "    <tr>\n",
              "      <th>2</th>\n",
              "      <td>3200</td>\n",
              "      <td>610000</td>\n",
              "    </tr>\n",
              "    <tr>\n",
              "      <th>3</th>\n",
              "      <td>4000</td>\n",
              "      <td>760000</td>\n",
              "    </tr>\n",
              "    <tr>\n",
              "      <th>4</th>\n",
              "      <td>4100</td>\n",
              "      <td>810000</td>\n",
              "    </tr>\n",
              "  </tbody>\n",
              "</table>\n",
              "</div>"
            ],
            "text/plain": [
              "   area   price\n",
              "0  2600  550000\n",
              "1  3000  565000\n",
              "2  3200  610000\n",
              "3  4000  760000\n",
              "4  4100  810000"
            ]
          },
          "execution_count": 52,
          "metadata": {},
          "output_type": "execute_result"
        }
      ],
      "source": [
        "univariate_df = df[['area', 'price']][:5]\n",
        "univariate_df"
      ]
    },
    {
      "cell_type": "code",
      "execution_count": null,
      "metadata": {
        "id": "FYxI6TvjcfnQ",
        "outputId": "cfcde00e-2374-40fe-ce05-6b50e6d1a313"
      },
      "outputs": [
        {
          "data": {
            "text/html": [
              "<div>\n",
              "<style scoped>\n",
              "    .dataframe tbody tr th:only-of-type {\n",
              "        vertical-align: middle;\n",
              "    }\n",
              "\n",
              "    .dataframe tbody tr th {\n",
              "        vertical-align: top;\n",
              "    }\n",
              "\n",
              "    .dataframe thead th {\n",
              "        text-align: right;\n",
              "    }\n",
              "</style>\n",
              "<table border=\"1\" class=\"dataframe\">\n",
              "  <thead>\n",
              "    <tr style=\"text-align: right;\">\n",
              "      <th></th>\n",
              "      <th>area</th>\n",
              "    </tr>\n",
              "  </thead>\n",
              "  <tbody>\n",
              "    <tr>\n",
              "      <th>0</th>\n",
              "      <td>2600</td>\n",
              "    </tr>\n",
              "    <tr>\n",
              "      <th>1</th>\n",
              "      <td>3000</td>\n",
              "    </tr>\n",
              "    <tr>\n",
              "      <th>2</th>\n",
              "      <td>3200</td>\n",
              "    </tr>\n",
              "    <tr>\n",
              "      <th>3</th>\n",
              "      <td>4000</td>\n",
              "    </tr>\n",
              "    <tr>\n",
              "      <th>4</th>\n",
              "      <td>4100</td>\n",
              "    </tr>\n",
              "  </tbody>\n",
              "</table>\n",
              "</div>"
            ],
            "text/plain": [
              "   area\n",
              "0  2600\n",
              "1  3000\n",
              "2  3200\n",
              "3  4000\n",
              "4  4100"
            ]
          },
          "execution_count": 53,
          "metadata": {},
          "output_type": "execute_result"
        }
      ],
      "source": [
        "# Extracting our independent variables (area)\n",
        "univ_X = univariate_df[['area']][0:5]\n",
        "univ_X"
      ]
    },
    {
      "cell_type": "code",
      "execution_count": null,
      "metadata": {
        "id": "be-9hd9GcfnR",
        "outputId": "aa498970-24ad-41ee-d783-fd157525da2f"
      },
      "outputs": [
        {
          "data": {
            "text/plain": [
              "0    550000\n",
              "1    565000\n",
              "2    610000\n",
              "3    760000\n",
              "4    810000\n",
              "Name: price, dtype: int64"
            ]
          },
          "execution_count": 54,
          "metadata": {},
          "output_type": "execute_result"
        }
      ],
      "source": [
        "# Extracting our dependent variable (price)\n",
        "univ_y = df['price'][0:5]\n",
        "univ_y"
      ]
    },
    {
      "cell_type": "code",
      "execution_count": null,
      "metadata": {
        "id": "_BvWk014cfnT"
      },
      "outputs": [],
      "source": []
    },
    {
      "cell_type": "code",
      "execution_count": null,
      "metadata": {
        "id": "F1NnCcHycfnf"
      },
      "outputs": [],
      "source": [
        "# Import the necessary metrics to grade our model/algorithm performance\n",
        "from sklearn.metrics import explained_variance_score,mean_absolute_error,mean_squared_error,r2_score,max_error"
      ]
    },
    {
      "cell_type": "code",
      "execution_count": null,
      "metadata": {
        "id": "vSVFJHGucfnh"
      },
      "outputs": [],
      "source": [
        "from time import time\n",
        "\n",
        "#Import all the availble regressors\n",
        "from sklearn.linear_model import LinearRegression, RANSACRegressor,Ridge,Lasso, SGDRegressor,TweedieRegressor\n",
        "from sklearn.linear_model import ARDRegression, HuberRegressor, PassiveAggressiveRegressor, TheilSenRegressor\n",
        "from sklearn.neighbors import KNeighborsRegressor\n",
        "from sklearn.ensemble import GradientBoostingRegressor,BaggingRegressor\n",
        "from sklearn.ensemble import AdaBoostRegressor, VotingRegressor\n",
        "from sklearn.ensemble import ExtraTreesRegressor, RandomForestRegressor\n",
        "from sklearn.tree import DecisionTreeRegressor"
      ]
    },
    {
      "cell_type": "code",
      "execution_count": null,
      "metadata": {
        "id": "d7VjHMn-cfni"
      },
      "outputs": [],
      "source": [
        "linear_regressors = [\n",
        "    ARDRegression(),\n",
        "    HuberRegressor(),\n",
        "    LinearRegression(),\n",
        "    PassiveAggressiveRegressor(),\n",
        "    RANSACRegressor(),\n",
        "    Ridge(),\n",
        "    Lasso(),\n",
        "    #SGDRegressor(),\n",
        "    TheilSenRegressor(),\n",
        "    TweedieRegressor()\n",
        "    ]"
      ]
    },
    {
      "cell_type": "code",
      "execution_count": null,
      "metadata": {
        "id": "qw2Bj6nFcfns"
      },
      "outputs": [],
      "source": [
        "# Create a list of the available regressor models\n",
        "reg1 = GradientBoostingRegressor(random_state=1)\n",
        "reg2 = RandomForestRegressor(random_state=1)\n",
        "\n",
        "ensemble_regressors = [\n",
        "    ExtraTreesRegressor(),\n",
        "    BaggingRegressor(base_estimator=ExtraTreesRegressor()),\n",
        "    GradientBoostingRegressor(learning_rate=0.3),\n",
        "    DecisionTreeRegressor(),\n",
        "    RandomForestRegressor(),\n",
        "    AdaBoostRegressor(),\n",
        "    KNeighborsRegressor(),\n",
        "    VotingRegressor([(\"gb\", reg1), (\"rf\", reg2)])\n",
        "]"
      ]
    },
    {
      "cell_type": "code",
      "execution_count": null,
      "metadata": {
        "id": "qElcePVjcfns"
      },
      "outputs": [],
      "source": [
        "# Create a dataframe to store the model training performance\n",
        "regressor_index = 0\n",
        "univ_performance_df = pd.DataFrame(columns=\n",
        "                        ['train_time','train_score','test_y','test_pred','pred_error(%)','model'])"
      ]
    },
    {
      "cell_type": "code",
      "execution_count": null,
      "metadata": {
        "id": "2uLirUdacfnv",
        "outputId": "29adf5d4-8797-4fdb-ddbd-0acbb4d47198"
      },
      "outputs": [
        {
          "name": "stdout",
          "output_type": "stream",
          "text": [
            "ARDRegression()\n",
            "Training time: 0.074s\n",
            "Actual value: 595000, Predicted value: [697763.14]\n",
            "Prediction error: [-14.73]%\n",
            "Prediction time: 0.021s\n",
            "R2 training score: 95.56440128237934\n",
            "\n",
            "HuberRegressor()\n",
            "Training time: 0.146s\n",
            "Actual value: 595000, Predicted value: [696069.32]\n",
            "Prediction error: [-14.52]%\n",
            "Prediction time: 0.009s\n",
            "R2 training score: 94.67884014752123\n",
            "\n",
            "LinearRegression()\n",
            "Training time: 0.056s\n",
            "Actual value: 595000, Predicted value: [698216.82]\n",
            "Prediction error: [-14.78]%\n",
            "Prediction time: 0.009s\n",
            "R2 training score: 95.57719282985342\n",
            "\n",
            "PassiveAggressiveRegressor()\n",
            "Training time: 0.004s\n",
            "Actual value: 595000, Predicted value: [711219.6]\n",
            "Prediction error: [-16.34]%\n",
            "Prediction time: 0.009s\n",
            "R2 training score: 93.77339281878129\n",
            "\n",
            "RANSACRegressor()\n",
            "Training time: 0.060s\n",
            "Actual value: 595000, Predicted value: [698216.82]\n",
            "Prediction error: [-14.78]%\n",
            "Prediction time: 0.008s\n",
            "R2 training score: 95.57719282985342\n",
            "\n",
            "Ridge()\n",
            "Training time: 0.006s\n",
            "Actual value: 595000, Predicted value: [698216.8]\n",
            "Prediction error: [-14.78]%\n",
            "Prediction time: 0.008s\n",
            "R2 training score: 95.57719282981988\n",
            "\n",
            "Lasso()\n",
            "Training time: 0.005s\n",
            "Actual value: 595000, Predicted value: [698216.82]\n",
            "Prediction error: [-14.78]%\n",
            "Prediction time: 0.009s\n",
            "R2 training score: 95.5771928298534\n",
            "\n",
            "TheilSenRegressor(max_subpopulation=10000)\n",
            "Training time: 0.049s\n",
            "Actual value: 595000, Predicted value: [683268.77]\n",
            "Prediction error: [-12.92]%\n",
            "Prediction time: 0.011s\n",
            "R2 training score: 91.67650696784546\n",
            "\n",
            "TweedieRegressor()\n",
            "Training time: 0.108s\n",
            "Actual value: 595000, Predicted value: [698216.71]\n",
            "Prediction error: [-14.78]%\n",
            "Prediction time: 0.007s\n",
            "R2 training score: 95.57719282901483\n",
            "\n",
            "Simulation Completed\n"
          ]
        }
      ],
      "source": [
        "# Manualling extraction our test data (from index 5)\n",
        "test_X = [[3600]] #format must be the same with training data\n",
        "test_y = 595000 #format must be the same with training data\n",
        "\n",
        "for model in linear_regressors:\n",
        "    start = time() # Training time started\n",
        "    model.fit(univ_X, univ_y)\n",
        "    train_time = time() - start # Training time ended\n",
        "    train_score = np.round(model.score(univ_X, univ_y)*100,2)\n",
        "\n",
        "    start = time() # Prediction time started\n",
        "    y_pred = model.predict(df[['area']][0:5])\n",
        "    final_df = univariate_df.copy()\n",
        "    final_df['y_predict'] = np.round(y_pred)\n",
        "    predict_time = time()-start # Prediction time ended\n",
        "\n",
        "    print(model)\n",
        "    print(\"Training time: %0.3fs\" % train_time)\n",
        "    #print(final_df)\n",
        "\n",
        "    # Prediction with the test_X = [[3600]].\n",
        "    test_pred = np.round(model.predict(test_X),2)\n",
        "    print(f'Actual value: {test_y}, Predicted value: {test_pred}')\n",
        "\n",
        "\n",
        "    pred_error = np.round(((test_y/test_pred)-1)*100,2)\n",
        "    print(f'Prediction error: {pred_error}%')\n",
        "    print(\"Prediction time: %0.3fs\" % predict_time)\n",
        "    print(\"R2 training score:\", model.score(univ_X, univ_y)*100)\n",
        "\n",
        "    univ_performance_df.loc[regressor_index] = \\\n",
        "                            [train_time,train_score,test_y,test_pred.item(),pred_error.item(),model]\n",
        "    regressor_index +=1\n",
        "    print()\n",
        "print('Simulation Completed')\n"
      ]
    },
    {
      "cell_type": "code",
      "execution_count": null,
      "metadata": {
        "id": "0tHBlC-Acfny",
        "outputId": "9c2b75c2-13fe-4827-b870-771f009902fd"
      },
      "outputs": [
        {
          "data": {
            "text/html": [
              "<div>\n",
              "<style scoped>\n",
              "    .dataframe tbody tr th:only-of-type {\n",
              "        vertical-align: middle;\n",
              "    }\n",
              "\n",
              "    .dataframe tbody tr th {\n",
              "        vertical-align: top;\n",
              "    }\n",
              "\n",
              "    .dataframe thead th {\n",
              "        text-align: right;\n",
              "    }\n",
              "</style>\n",
              "<table border=\"1\" class=\"dataframe\">\n",
              "  <thead>\n",
              "    <tr style=\"text-align: right;\">\n",
              "      <th></th>\n",
              "      <th>train_time</th>\n",
              "      <th>train_score</th>\n",
              "      <th>test_y</th>\n",
              "      <th>test_pred</th>\n",
              "      <th>pred_error(%)</th>\n",
              "      <th>model</th>\n",
              "    </tr>\n",
              "  </thead>\n",
              "  <tbody>\n",
              "    <tr>\n",
              "      <th>0</th>\n",
              "      <td>0.074223</td>\n",
              "      <td>95.56</td>\n",
              "      <td>595000</td>\n",
              "      <td>697763.14</td>\n",
              "      <td>-14.73</td>\n",
              "      <td>ARDRegression()</td>\n",
              "    </tr>\n",
              "    <tr>\n",
              "      <th>1</th>\n",
              "      <td>0.145517</td>\n",
              "      <td>94.68</td>\n",
              "      <td>595000</td>\n",
              "      <td>696069.32</td>\n",
              "      <td>-14.52</td>\n",
              "      <td>HuberRegressor()</td>\n",
              "    </tr>\n",
              "    <tr>\n",
              "      <th>2</th>\n",
              "      <td>0.055667</td>\n",
              "      <td>95.58</td>\n",
              "      <td>595000</td>\n",
              "      <td>698216.82</td>\n",
              "      <td>-14.78</td>\n",
              "      <td>LinearRegression()</td>\n",
              "    </tr>\n",
              "    <tr>\n",
              "      <th>3</th>\n",
              "      <td>0.003910</td>\n",
              "      <td>93.77</td>\n",
              "      <td>595000</td>\n",
              "      <td>711219.60</td>\n",
              "      <td>-16.34</td>\n",
              "      <td>PassiveAggressiveRegressor()</td>\n",
              "    </tr>\n",
              "    <tr>\n",
              "      <th>4</th>\n",
              "      <td>0.059573</td>\n",
              "      <td>95.58</td>\n",
              "      <td>595000</td>\n",
              "      <td>698216.82</td>\n",
              "      <td>-14.78</td>\n",
              "      <td>RANSACRegressor()</td>\n",
              "    </tr>\n",
              "    <tr>\n",
              "      <th>5</th>\n",
              "      <td>0.005860</td>\n",
              "      <td>95.58</td>\n",
              "      <td>595000</td>\n",
              "      <td>698216.80</td>\n",
              "      <td>-14.78</td>\n",
              "      <td>Ridge()</td>\n",
              "    </tr>\n",
              "    <tr>\n",
              "      <th>6</th>\n",
              "      <td>0.004884</td>\n",
              "      <td>95.58</td>\n",
              "      <td>595000</td>\n",
              "      <td>698216.82</td>\n",
              "      <td>-14.78</td>\n",
              "      <td>Lasso()</td>\n",
              "    </tr>\n",
              "    <tr>\n",
              "      <th>7</th>\n",
              "      <td>0.048827</td>\n",
              "      <td>91.68</td>\n",
              "      <td>595000</td>\n",
              "      <td>683268.77</td>\n",
              "      <td>-12.92</td>\n",
              "      <td>TheilSenRegressor(max_subpopulation=10000)</td>\n",
              "    </tr>\n",
              "    <tr>\n",
              "      <th>8</th>\n",
              "      <td>0.108400</td>\n",
              "      <td>95.58</td>\n",
              "      <td>595000</td>\n",
              "      <td>698216.71</td>\n",
              "      <td>-14.78</td>\n",
              "      <td>TweedieRegressor()</td>\n",
              "    </tr>\n",
              "  </tbody>\n",
              "</table>\n",
              "</div>"
            ],
            "text/plain": [
              "   train_time  train_score  test_y  test_pred  pred_error(%)  \\\n",
              "0    0.074223        95.56  595000  697763.14         -14.73   \n",
              "1    0.145517        94.68  595000  696069.32         -14.52   \n",
              "2    0.055667        95.58  595000  698216.82         -14.78   \n",
              "3    0.003910        93.77  595000  711219.60         -16.34   \n",
              "4    0.059573        95.58  595000  698216.82         -14.78   \n",
              "5    0.005860        95.58  595000  698216.80         -14.78   \n",
              "6    0.004884        95.58  595000  698216.82         -14.78   \n",
              "7    0.048827        91.68  595000  683268.77         -12.92   \n",
              "8    0.108400        95.58  595000  698216.71         -14.78   \n",
              "\n",
              "                                        model  \n",
              "0                             ARDRegression()  \n",
              "1                            HuberRegressor()  \n",
              "2                          LinearRegression()  \n",
              "3                PassiveAggressiveRegressor()  \n",
              "4                           RANSACRegressor()  \n",
              "5                                     Ridge()  \n",
              "6                                     Lasso()  \n",
              "7  TheilSenRegressor(max_subpopulation=10000)  \n",
              "8                          TweedieRegressor()  "
            ]
          },
          "execution_count": 61,
          "metadata": {},
          "output_type": "execute_result"
        }
      ],
      "source": [
        "univ_performance_df"
      ]
    },
    {
      "cell_type": "code",
      "execution_count": null,
      "metadata": {
        "id": "AouV3swIcfnz",
        "outputId": "a282ce45-a0ac-40f4-a641-695711252c3e"
      },
      "outputs": [
        {
          "name": "stdout",
          "output_type": "stream",
          "text": [
            "ExtraTreesRegressor()\n",
            "Training time: 0.687s\n",
            "Actual value: 595000, Predicted value: [688000.]\n",
            "Prediction error: [-13.52]%\n",
            "Prediction time: 0.047s\n",
            "R2 training score: 100.0\n",
            "\n",
            "BaggingRegressor(base_estimator=ExtraTreesRegressor())\n",
            "Training time: 5.006s\n",
            "Actual value: 595000, Predicted value: [686025.]\n",
            "Prediction error: [-13.27]%\n",
            "Prediction time: 0.454s\n",
            "R2 training score: 97.38595647719173\n",
            "\n",
            "GradientBoostingRegressor(learning_rate=0.3)\n",
            "Training time: 0.094s\n",
            "Actual value: 595000, Predicted value: [610000.]\n",
            "Prediction error: [-2.46]%\n",
            "Prediction time: 0.000s\n",
            "R2 training score: 100.0\n",
            "\n",
            "DecisionTreeRegressor()\n",
            "Training time: 0.016s\n",
            "Actual value: 595000, Predicted value: [610000.]\n",
            "Prediction error: [-2.46]%\n",
            "Prediction time: 0.000s\n",
            "R2 training score: 100.0\n",
            "\n",
            "RandomForestRegressor()\n",
            "Training time: 0.528s\n",
            "Actual value: 595000, Predicted value: [675500.]\n",
            "Prediction error: [-11.92]%\n",
            "Prediction time: 0.047s\n",
            "R2 training score: 98.06740466856736\n",
            "\n",
            "AdaBoostRegressor()\n",
            "Training time: 0.063s\n",
            "Actual value: 595000, Predicted value: [610000.]\n",
            "Prediction error: [-2.46]%\n",
            "Prediction time: 0.016s\n",
            "R2 training score: 100.0\n",
            "\n",
            "KNeighborsRegressor()\n",
            "Training time: 0.000s\n",
            "Actual value: 595000, Predicted value: [659000.]\n",
            "Prediction error: [-9.71]%\n",
            "Prediction time: 0.000s\n",
            "R2 training score: 0.0\n",
            "\n",
            "VotingRegressor(estimators=[('gb', GradientBoostingRegressor(random_state=1)),\n",
            "                            ('rf', RandomForestRegressor(random_state=1))])\n",
            "Training time: 0.604s\n",
            "Actual value: 595000, Predicted value: [632250.65]\n",
            "Prediction error: [-5.89]%\n",
            "Prediction time: 0.031s\n",
            "R2 training score: 99.51765198100479\n",
            "\n",
            "Simulation Completed\n"
          ]
        }
      ],
      "source": [
        "test_X = [[3600]] #format must be the same with training data\n",
        "test_y = 595000 #format must be the same with training data\n",
        "\n",
        "for model in ensemble_regressors:\n",
        "    start = time() # Training time started\n",
        "    model.fit(univ_X, univ_y)\n",
        "    train_time = time() - start # Training time ended\n",
        "    train_score = np.round(model.score(univ_X, univ_y)*100,2)\n",
        "\n",
        "    start = time() # Prediction time started\n",
        "    y_pred = model.predict(df[['area']][0:5])\n",
        "    final_df = univariate_df.copy()\n",
        "    final_df['y_predict'] = np.round(y_pred)\n",
        "    predict_time = time()-start # Prediction time ended\n",
        "\n",
        "    print(model)\n",
        "    print(\"Training time: %0.3fs\" % train_time)\n",
        "    #print(final_df)\n",
        "\n",
        "    # Prediction with the test_X = [[3600]].\n",
        "    test_pred = np.round(model.predict(test_X),2)\n",
        "    print(f'Actual value: {test_y}, Predicted value: {test_pred}')\n",
        "\n",
        "\n",
        "    pred_error = np.round(((test_y/test_pred)-1)*100,2)\n",
        "    print(f'Prediction error: {pred_error}%')\n",
        "    print(\"Prediction time: %0.3fs\" % predict_time)\n",
        "    print(\"R2 training score:\", model.score(univ_X, univ_y)*100)\n",
        "\n",
        "    univ_performance_df.loc[regressor_index] = \\\n",
        "                            [train_time,train_score,test_y,test_pred.item(),pred_error.item(),model]\n",
        "    regressor_index +=1\n",
        "    print()\n",
        "print('Simulation Completed')"
      ]
    },
    {
      "cell_type": "code",
      "execution_count": null,
      "metadata": {
        "id": "klPdlGAbcfpK",
        "outputId": "e81d8ae4-c794-4652-a956-b346a8a142b2"
      },
      "outputs": [
        {
          "data": {
            "text/html": [
              "<div>\n",
              "<style scoped>\n",
              "    .dataframe tbody tr th:only-of-type {\n",
              "        vertical-align: middle;\n",
              "    }\n",
              "\n",
              "    .dataframe tbody tr th {\n",
              "        vertical-align: top;\n",
              "    }\n",
              "\n",
              "    .dataframe thead th {\n",
              "        text-align: right;\n",
              "    }\n",
              "</style>\n",
              "<table border=\"1\" class=\"dataframe\">\n",
              "  <thead>\n",
              "    <tr style=\"text-align: right;\">\n",
              "      <th></th>\n",
              "      <th>train_time</th>\n",
              "      <th>train_score</th>\n",
              "      <th>test_y</th>\n",
              "      <th>test_pred</th>\n",
              "      <th>pred_error(%)</th>\n",
              "      <th>model</th>\n",
              "    </tr>\n",
              "  </thead>\n",
              "  <tbody>\n",
              "    <tr>\n",
              "      <th>11</th>\n",
              "      <td>0.094117</td>\n",
              "      <td>100.00</td>\n",
              "      <td>595000</td>\n",
              "      <td>610000.00</td>\n",
              "      <td>-2.46</td>\n",
              "      <td>([DecisionTreeRegressor(criterion='friedman_ms...</td>\n",
              "    </tr>\n",
              "    <tr>\n",
              "      <th>12</th>\n",
              "      <td>0.015627</td>\n",
              "      <td>100.00</td>\n",
              "      <td>595000</td>\n",
              "      <td>610000.00</td>\n",
              "      <td>-2.46</td>\n",
              "      <td>DecisionTreeRegressor()</td>\n",
              "    </tr>\n",
              "    <tr>\n",
              "      <th>14</th>\n",
              "      <td>0.062501</td>\n",
              "      <td>100.00</td>\n",
              "      <td>595000</td>\n",
              "      <td>610000.00</td>\n",
              "      <td>-2.46</td>\n",
              "      <td>(DecisionTreeRegressor(max_depth=3, random_sta...</td>\n",
              "    </tr>\n",
              "    <tr>\n",
              "      <th>9</th>\n",
              "      <td>0.687038</td>\n",
              "      <td>100.00</td>\n",
              "      <td>595000</td>\n",
              "      <td>688000.00</td>\n",
              "      <td>-13.52</td>\n",
              "      <td>(ExtraTreeRegressor(random_state=81015291), Ex...</td>\n",
              "    </tr>\n",
              "    <tr>\n",
              "      <th>16</th>\n",
              "      <td>0.603539</td>\n",
              "      <td>99.52</td>\n",
              "      <td>595000</td>\n",
              "      <td>632250.65</td>\n",
              "      <td>-5.89</td>\n",
              "      <td>VotingRegressor(estimators=[('gb', GradientBoo...</td>\n",
              "    </tr>\n",
              "    <tr>\n",
              "      <th>13</th>\n",
              "      <td>0.527848</td>\n",
              "      <td>98.07</td>\n",
              "      <td>595000</td>\n",
              "      <td>675500.00</td>\n",
              "      <td>-11.92</td>\n",
              "      <td>(DecisionTreeRegressor(max_features='auto', ra...</td>\n",
              "    </tr>\n",
              "    <tr>\n",
              "      <th>10</th>\n",
              "      <td>5.005561</td>\n",
              "      <td>97.39</td>\n",
              "      <td>595000</td>\n",
              "      <td>686025.00</td>\n",
              "      <td>-13.27</td>\n",
              "      <td>((ExtraTreeRegressor(random_state=504569538), ...</td>\n",
              "    </tr>\n",
              "    <tr>\n",
              "      <th>2</th>\n",
              "      <td>0.055667</td>\n",
              "      <td>95.58</td>\n",
              "      <td>595000</td>\n",
              "      <td>698216.82</td>\n",
              "      <td>-14.78</td>\n",
              "      <td>LinearRegression()</td>\n",
              "    </tr>\n",
              "    <tr>\n",
              "      <th>4</th>\n",
              "      <td>0.059573</td>\n",
              "      <td>95.58</td>\n",
              "      <td>595000</td>\n",
              "      <td>698216.82</td>\n",
              "      <td>-14.78</td>\n",
              "      <td>RANSACRegressor()</td>\n",
              "    </tr>\n",
              "    <tr>\n",
              "      <th>5</th>\n",
              "      <td>0.005860</td>\n",
              "      <td>95.58</td>\n",
              "      <td>595000</td>\n",
              "      <td>698216.80</td>\n",
              "      <td>-14.78</td>\n",
              "      <td>Ridge()</td>\n",
              "    </tr>\n",
              "    <tr>\n",
              "      <th>6</th>\n",
              "      <td>0.004884</td>\n",
              "      <td>95.58</td>\n",
              "      <td>595000</td>\n",
              "      <td>698216.82</td>\n",
              "      <td>-14.78</td>\n",
              "      <td>Lasso()</td>\n",
              "    </tr>\n",
              "    <tr>\n",
              "      <th>8</th>\n",
              "      <td>0.108400</td>\n",
              "      <td>95.58</td>\n",
              "      <td>595000</td>\n",
              "      <td>698216.71</td>\n",
              "      <td>-14.78</td>\n",
              "      <td>TweedieRegressor()</td>\n",
              "    </tr>\n",
              "    <tr>\n",
              "      <th>0</th>\n",
              "      <td>0.074223</td>\n",
              "      <td>95.56</td>\n",
              "      <td>595000</td>\n",
              "      <td>697763.14</td>\n",
              "      <td>-14.73</td>\n",
              "      <td>ARDRegression()</td>\n",
              "    </tr>\n",
              "    <tr>\n",
              "      <th>1</th>\n",
              "      <td>0.145517</td>\n",
              "      <td>94.68</td>\n",
              "      <td>595000</td>\n",
              "      <td>696069.32</td>\n",
              "      <td>-14.52</td>\n",
              "      <td>HuberRegressor()</td>\n",
              "    </tr>\n",
              "    <tr>\n",
              "      <th>3</th>\n",
              "      <td>0.003910</td>\n",
              "      <td>93.77</td>\n",
              "      <td>595000</td>\n",
              "      <td>711219.60</td>\n",
              "      <td>-16.34</td>\n",
              "      <td>PassiveAggressiveRegressor()</td>\n",
              "    </tr>\n",
              "    <tr>\n",
              "      <th>7</th>\n",
              "      <td>0.048827</td>\n",
              "      <td>91.68</td>\n",
              "      <td>595000</td>\n",
              "      <td>683268.77</td>\n",
              "      <td>-12.92</td>\n",
              "      <td>TheilSenRegressor(max_subpopulation=10000)</td>\n",
              "    </tr>\n",
              "    <tr>\n",
              "      <th>15</th>\n",
              "      <td>0.000000</td>\n",
              "      <td>0.00</td>\n",
              "      <td>595000</td>\n",
              "      <td>659000.00</td>\n",
              "      <td>-9.71</td>\n",
              "      <td>KNeighborsRegressor()</td>\n",
              "    </tr>\n",
              "  </tbody>\n",
              "</table>\n",
              "</div>"
            ],
            "text/plain": [
              "    train_time  train_score  test_y  test_pred  pred_error(%)  \\\n",
              "11    0.094117       100.00  595000  610000.00          -2.46   \n",
              "12    0.015627       100.00  595000  610000.00          -2.46   \n",
              "14    0.062501       100.00  595000  610000.00          -2.46   \n",
              "9     0.687038       100.00  595000  688000.00         -13.52   \n",
              "16    0.603539        99.52  595000  632250.65          -5.89   \n",
              "13    0.527848        98.07  595000  675500.00         -11.92   \n",
              "10    5.005561        97.39  595000  686025.00         -13.27   \n",
              "2     0.055667        95.58  595000  698216.82         -14.78   \n",
              "4     0.059573        95.58  595000  698216.82         -14.78   \n",
              "5     0.005860        95.58  595000  698216.80         -14.78   \n",
              "6     0.004884        95.58  595000  698216.82         -14.78   \n",
              "8     0.108400        95.58  595000  698216.71         -14.78   \n",
              "0     0.074223        95.56  595000  697763.14         -14.73   \n",
              "1     0.145517        94.68  595000  696069.32         -14.52   \n",
              "3     0.003910        93.77  595000  711219.60         -16.34   \n",
              "7     0.048827        91.68  595000  683268.77         -12.92   \n",
              "15    0.000000         0.00  595000  659000.00          -9.71   \n",
              "\n",
              "                                                model  \n",
              "11  ([DecisionTreeRegressor(criterion='friedman_ms...  \n",
              "12                            DecisionTreeRegressor()  \n",
              "14  (DecisionTreeRegressor(max_depth=3, random_sta...  \n",
              "9   (ExtraTreeRegressor(random_state=81015291), Ex...  \n",
              "16  VotingRegressor(estimators=[('gb', GradientBoo...  \n",
              "13  (DecisionTreeRegressor(max_features='auto', ra...  \n",
              "10  ((ExtraTreeRegressor(random_state=504569538), ...  \n",
              "2                                  LinearRegression()  \n",
              "4                                   RANSACRegressor()  \n",
              "5                                             Ridge()  \n",
              "6                                             Lasso()  \n",
              "8                                  TweedieRegressor()  \n",
              "0                                     ARDRegression()  \n",
              "1                                    HuberRegressor()  \n",
              "3                        PassiveAggressiveRegressor()  \n",
              "7          TheilSenRegressor(max_subpopulation=10000)  \n",
              "15                              KNeighborsRegressor()  "
            ]
          },
          "execution_count": 63,
          "metadata": {},
          "output_type": "execute_result"
        }
      ],
      "source": [
        "# Printing the Dataframe and sorting in decending order by training score\n",
        "univ_performance_df.sort_values(by=['train_score','pred_error(%)'], ascending=False)"
      ]
    },
    {
      "cell_type": "markdown",
      "metadata": {
        "id": "LvwnYnH7cfpU"
      },
      "source": [
        "### (1) Predict price of a home with area = 3300 sqr ft"
      ]
    },
    {
      "cell_type": "code",
      "execution_count": null,
      "metadata": {
        "id": "rmbVDYGzcfpV",
        "outputId": "541e1dd8-1c36-4826-9d6e-093f5603549f"
      },
      "outputs": [
        {
          "data": {
            "text/html": [
              "<div>\n",
              "<style scoped>\n",
              "    .dataframe tbody tr th:only-of-type {\n",
              "        vertical-align: middle;\n",
              "    }\n",
              "\n",
              "    .dataframe tbody tr th {\n",
              "        vertical-align: top;\n",
              "    }\n",
              "\n",
              "    .dataframe thead th {\n",
              "        text-align: right;\n",
              "    }\n",
              "</style>\n",
              "<table border=\"1\" class=\"dataframe\">\n",
              "  <thead>\n",
              "    <tr style=\"text-align: right;\">\n",
              "      <th></th>\n",
              "      <th>area</th>\n",
              "      <th>bedrooms</th>\n",
              "      <th>age</th>\n",
              "      <th>price</th>\n",
              "    </tr>\n",
              "  </thead>\n",
              "  <tbody>\n",
              "    <tr>\n",
              "      <th>0</th>\n",
              "      <td>2600</td>\n",
              "      <td>3.0</td>\n",
              "      <td>20</td>\n",
              "      <td>550000</td>\n",
              "    </tr>\n",
              "    <tr>\n",
              "      <th>1</th>\n",
              "      <td>3000</td>\n",
              "      <td>4.0</td>\n",
              "      <td>15</td>\n",
              "      <td>565000</td>\n",
              "    </tr>\n",
              "    <tr>\n",
              "      <th>2</th>\n",
              "      <td>3200</td>\n",
              "      <td>NaN</td>\n",
              "      <td>18</td>\n",
              "      <td>610000</td>\n",
              "    </tr>\n",
              "    <tr>\n",
              "      <th>3</th>\n",
              "      <td>4000</td>\n",
              "      <td>5.0</td>\n",
              "      <td>8</td>\n",
              "      <td>760000</td>\n",
              "    </tr>\n",
              "    <tr>\n",
              "      <th>4</th>\n",
              "      <td>4100</td>\n",
              "      <td>6.0</td>\n",
              "      <td>8</td>\n",
              "      <td>810000</td>\n",
              "    </tr>\n",
              "    <tr>\n",
              "      <th>5</th>\n",
              "      <td>3600</td>\n",
              "      <td>3.0</td>\n",
              "      <td>30</td>\n",
              "      <td>595000</td>\n",
              "    </tr>\n",
              "  </tbody>\n",
              "</table>\n",
              "</div>"
            ],
            "text/plain": [
              "   area  bedrooms  age   price\n",
              "0  2600       3.0   20  550000\n",
              "1  3000       4.0   15  565000\n",
              "2  3200       NaN   18  610000\n",
              "3  4000       5.0    8  760000\n",
              "4  4100       6.0    8  810000\n",
              "5  3600       3.0   30  595000"
            ]
          },
          "execution_count": 64,
          "metadata": {},
          "output_type": "execute_result"
        }
      ],
      "source": [
        "area_df = pd.read_csv(\"homeprices.csv\")\n",
        "area_df.head(10)"
      ]
    },
    {
      "cell_type": "code",
      "execution_count": null,
      "metadata": {
        "id": "VvoV7ZumcfpX",
        "outputId": "fde1e5a6-db47-4aa9-d205-1f29bb8cf36c"
      },
      "outputs": [
        {
          "data": {
            "text/html": [
              "<div>\n",
              "<style scoped>\n",
              "    .dataframe tbody tr th:only-of-type {\n",
              "        vertical-align: middle;\n",
              "    }\n",
              "\n",
              "    .dataframe tbody tr th {\n",
              "        vertical-align: top;\n",
              "    }\n",
              "\n",
              "    .dataframe thead th {\n",
              "        text-align: right;\n",
              "    }\n",
              "</style>\n",
              "<table border=\"1\" class=\"dataframe\">\n",
              "  <thead>\n",
              "    <tr style=\"text-align: right;\">\n",
              "      <th></th>\n",
              "      <th>area</th>\n",
              "      <th>price</th>\n",
              "    </tr>\n",
              "  </thead>\n",
              "  <tbody>\n",
              "    <tr>\n",
              "      <th>0</th>\n",
              "      <td>2600</td>\n",
              "      <td>550000</td>\n",
              "    </tr>\n",
              "    <tr>\n",
              "      <th>1</th>\n",
              "      <td>3000</td>\n",
              "      <td>565000</td>\n",
              "    </tr>\n",
              "    <tr>\n",
              "      <th>2</th>\n",
              "      <td>3200</td>\n",
              "      <td>610000</td>\n",
              "    </tr>\n",
              "    <tr>\n",
              "      <th>3</th>\n",
              "      <td>4000</td>\n",
              "      <td>760000</td>\n",
              "    </tr>\n",
              "    <tr>\n",
              "      <th>4</th>\n",
              "      <td>4100</td>\n",
              "      <td>810000</td>\n",
              "    </tr>\n",
              "    <tr>\n",
              "      <th>5</th>\n",
              "      <td>3600</td>\n",
              "      <td>595000</td>\n",
              "    </tr>\n",
              "  </tbody>\n",
              "</table>\n",
              "</div>"
            ],
            "text/plain": [
              "   area   price\n",
              "0  2600  550000\n",
              "1  3000  565000\n",
              "2  3200  610000\n",
              "3  4000  760000\n",
              "4  4100  810000\n",
              "5  3600  595000"
            ]
          },
          "execution_count": 65,
          "metadata": {},
          "output_type": "execute_result"
        }
      ],
      "source": [
        "univariate_df = df[['area', 'price']]\n",
        "univariate_df"
      ]
    },
    {
      "cell_type": "code",
      "execution_count": null,
      "metadata": {
        "id": "FVG-Sy_rcfpZ",
        "outputId": "49914310-2c51-4b70-b682-dad8d6c6c03a"
      },
      "outputs": [
        {
          "data": {
            "text/html": [
              "<div>\n",
              "<style scoped>\n",
              "    .dataframe tbody tr th:only-of-type {\n",
              "        vertical-align: middle;\n",
              "    }\n",
              "\n",
              "    .dataframe tbody tr th {\n",
              "        vertical-align: top;\n",
              "    }\n",
              "\n",
              "    .dataframe thead th {\n",
              "        text-align: right;\n",
              "    }\n",
              "</style>\n",
              "<table border=\"1\" class=\"dataframe\">\n",
              "  <thead>\n",
              "    <tr style=\"text-align: right;\">\n",
              "      <th></th>\n",
              "      <th>area</th>\n",
              "    </tr>\n",
              "  </thead>\n",
              "  <tbody>\n",
              "    <tr>\n",
              "      <th>0</th>\n",
              "      <td>2600</td>\n",
              "    </tr>\n",
              "    <tr>\n",
              "      <th>1</th>\n",
              "      <td>3000</td>\n",
              "    </tr>\n",
              "    <tr>\n",
              "      <th>2</th>\n",
              "      <td>3200</td>\n",
              "    </tr>\n",
              "    <tr>\n",
              "      <th>3</th>\n",
              "      <td>4000</td>\n",
              "    </tr>\n",
              "    <tr>\n",
              "      <th>4</th>\n",
              "      <td>4100</td>\n",
              "    </tr>\n",
              "  </tbody>\n",
              "</table>\n",
              "</div>"
            ],
            "text/plain": [
              "   area\n",
              "0  2600\n",
              "1  3000\n",
              "2  3200\n",
              "3  4000\n",
              "4  4100"
            ]
          },
          "execution_count": 66,
          "metadata": {},
          "output_type": "execute_result"
        }
      ],
      "source": [
        "univ_X = univariate_df[['area']][0:5]\n",
        "univ_X"
      ]
    },
    {
      "cell_type": "code",
      "execution_count": null,
      "metadata": {
        "id": "q2JNuYalcfpb",
        "outputId": "5282e014-5f79-4480-dff1-cd66d24b664d"
      },
      "outputs": [
        {
          "data": {
            "text/html": [
              "<div>\n",
              "<style scoped>\n",
              "    .dataframe tbody tr th:only-of-type {\n",
              "        vertical-align: middle;\n",
              "    }\n",
              "\n",
              "    .dataframe tbody tr th {\n",
              "        vertical-align: top;\n",
              "    }\n",
              "\n",
              "    .dataframe thead th {\n",
              "        text-align: right;\n",
              "    }\n",
              "</style>\n",
              "<table border=\"1\" class=\"dataframe\">\n",
              "  <thead>\n",
              "    <tr style=\"text-align: right;\">\n",
              "      <th></th>\n",
              "      <th>price</th>\n",
              "    </tr>\n",
              "  </thead>\n",
              "  <tbody>\n",
              "    <tr>\n",
              "      <th>0</th>\n",
              "      <td>550000</td>\n",
              "    </tr>\n",
              "    <tr>\n",
              "      <th>1</th>\n",
              "      <td>565000</td>\n",
              "    </tr>\n",
              "    <tr>\n",
              "      <th>2</th>\n",
              "      <td>610000</td>\n",
              "    </tr>\n",
              "    <tr>\n",
              "      <th>3</th>\n",
              "      <td>760000</td>\n",
              "    </tr>\n",
              "    <tr>\n",
              "      <th>4</th>\n",
              "      <td>810000</td>\n",
              "    </tr>\n",
              "  </tbody>\n",
              "</table>\n",
              "</div>"
            ],
            "text/plain": [
              "    price\n",
              "0  550000\n",
              "1  565000\n",
              "2  610000\n",
              "3  760000\n",
              "4  810000"
            ]
          },
          "execution_count": 67,
          "metadata": {},
          "output_type": "execute_result"
        }
      ],
      "source": [
        "# Extracting our independent variables (area)\n",
        "univ_y = univariate_df[['price']][0:5]\n",
        "univ_y"
      ]
    },
    {
      "cell_type": "code",
      "execution_count": null,
      "metadata": {
        "id": "LNjRK85Fcfpl"
      },
      "outputs": [],
      "source": [
        "area_df = area_df.dropna()\n"
      ]
    },
    {
      "cell_type": "code",
      "execution_count": null,
      "metadata": {
        "id": "fRzWoO1zcfpn",
        "outputId": "66e24494-2e30-496e-9c03-0922ec6c795e"
      },
      "outputs": [
        {
          "ename": "ValueError",
          "evalue": "X has 4 features, but AdaBoostRegressor is expecting 1 features as input.",
          "output_type": "error",
          "traceback": [
            "\u001b[1;31m---------------------------------------------------------------------------\u001b[0m",
            "\u001b[1;31mValueError\u001b[0m                                Traceback (most recent call last)",
            "\u001b[1;32m~\\AppData\\Local\\Temp\\ipykernel_6560\\3791928281.py\u001b[0m in \u001b[0;36m<module>\u001b[1;34m\u001b[0m\n\u001b[0;32m      1\u001b[0m \u001b[0mbest_predictor\u001b[0m \u001b[1;33m=\u001b[0m \u001b[0mAdaBoostRegressor\u001b[0m\u001b[1;33m(\u001b[0m\u001b[1;33m)\u001b[0m\u001b[1;33m\u001b[0m\u001b[1;33m\u001b[0m\u001b[0m\n\u001b[0;32m      2\u001b[0m \u001b[0mbest_predictor\u001b[0m\u001b[1;33m.\u001b[0m\u001b[0mfit\u001b[0m\u001b[1;33m(\u001b[0m\u001b[0muniv_X\u001b[0m\u001b[1;33m,\u001b[0m \u001b[0muniv_y\u001b[0m\u001b[1;33m)\u001b[0m\u001b[1;33m\u001b[0m\u001b[1;33m\u001b[0m\u001b[0m\n\u001b[1;32m----> 3\u001b[1;33m \u001b[0mpred_vals\u001b[0m \u001b[1;33m=\u001b[0m \u001b[0mnp\u001b[0m\u001b[1;33m.\u001b[0m\u001b[0mround\u001b[0m\u001b[1;33m(\u001b[0m\u001b[0mbest_predictor\u001b[0m\u001b[1;33m.\u001b[0m\u001b[0mpredict\u001b[0m\u001b[1;33m(\u001b[0m\u001b[0marea_df\u001b[0m\u001b[1;33m)\u001b[0m\u001b[1;33m,\u001b[0m\u001b[1;36m2\u001b[0m\u001b[1;33m)\u001b[0m\u001b[1;33m\u001b[0m\u001b[1;33m\u001b[0m\u001b[0m\n\u001b[0m\u001b[0;32m      4\u001b[0m \u001b[0mpred_val\u001b[0m\u001b[1;33m\u001b[0m\u001b[1;33m\u001b[0m\u001b[0m\n",
            "\u001b[1;32mC:\\ProgramData\\Anaconda3\\lib\\site-packages\\sklearn\\ensemble\\_weight_boosting.py\u001b[0m in \u001b[0;36mpredict\u001b[1;34m(self, X)\u001b[0m\n\u001b[0;32m   1202\u001b[0m         \"\"\"\n\u001b[0;32m   1203\u001b[0m         \u001b[0mcheck_is_fitted\u001b[0m\u001b[1;33m(\u001b[0m\u001b[0mself\u001b[0m\u001b[1;33m)\u001b[0m\u001b[1;33m\u001b[0m\u001b[1;33m\u001b[0m\u001b[0m\n\u001b[1;32m-> 1204\u001b[1;33m         \u001b[0mX\u001b[0m \u001b[1;33m=\u001b[0m \u001b[0mself\u001b[0m\u001b[1;33m.\u001b[0m\u001b[0m_check_X\u001b[0m\u001b[1;33m(\u001b[0m\u001b[0mX\u001b[0m\u001b[1;33m)\u001b[0m\u001b[1;33m\u001b[0m\u001b[1;33m\u001b[0m\u001b[0m\n\u001b[0m\u001b[0;32m   1205\u001b[0m \u001b[1;33m\u001b[0m\u001b[0m\n\u001b[0;32m   1206\u001b[0m         \u001b[1;32mreturn\u001b[0m \u001b[0mself\u001b[0m\u001b[1;33m.\u001b[0m\u001b[0m_get_median_predict\u001b[0m\u001b[1;33m(\u001b[0m\u001b[0mX\u001b[0m\u001b[1;33m,\u001b[0m \u001b[0mlen\u001b[0m\u001b[1;33m(\u001b[0m\u001b[0mself\u001b[0m\u001b[1;33m.\u001b[0m\u001b[0mestimators_\u001b[0m\u001b[1;33m)\u001b[0m\u001b[1;33m)\u001b[0m\u001b[1;33m\u001b[0m\u001b[1;33m\u001b[0m\u001b[0m\n",
            "\u001b[1;32mC:\\ProgramData\\Anaconda3\\lib\\site-packages\\sklearn\\ensemble\\_weight_boosting.py\u001b[0m in \u001b[0;36m_check_X\u001b[1;34m(self, X)\u001b[0m\n\u001b[0;32m     80\u001b[0m     \u001b[1;32mdef\u001b[0m \u001b[0m_check_X\u001b[0m\u001b[1;33m(\u001b[0m\u001b[0mself\u001b[0m\u001b[1;33m,\u001b[0m \u001b[0mX\u001b[0m\u001b[1;33m)\u001b[0m\u001b[1;33m:\u001b[0m\u001b[1;33m\u001b[0m\u001b[1;33m\u001b[0m\u001b[0m\n\u001b[0;32m     81\u001b[0m         \u001b[1;31m# Only called to validate X in non-fit methods, therefore reset=False\u001b[0m\u001b[1;33m\u001b[0m\u001b[1;33m\u001b[0m\u001b[0m\n\u001b[1;32m---> 82\u001b[1;33m         return self._validate_data(\n\u001b[0m\u001b[0;32m     83\u001b[0m             \u001b[0mX\u001b[0m\u001b[1;33m,\u001b[0m\u001b[1;33m\u001b[0m\u001b[1;33m\u001b[0m\u001b[0m\n\u001b[0;32m     84\u001b[0m             \u001b[0maccept_sparse\u001b[0m\u001b[1;33m=\u001b[0m\u001b[1;33m[\u001b[0m\u001b[1;34m\"csr\"\u001b[0m\u001b[1;33m,\u001b[0m \u001b[1;34m\"csc\"\u001b[0m\u001b[1;33m]\u001b[0m\u001b[1;33m,\u001b[0m\u001b[1;33m\u001b[0m\u001b[1;33m\u001b[0m\u001b[0m\n",
            "\u001b[1;32mC:\\ProgramData\\Anaconda3\\lib\\site-packages\\sklearn\\base.py\u001b[0m in \u001b[0;36m_validate_data\u001b[1;34m(self, X, y, reset, validate_separately, **check_params)\u001b[0m\n\u001b[0;32m    583\u001b[0m \u001b[1;33m\u001b[0m\u001b[0m\n\u001b[0;32m    584\u001b[0m         \u001b[1;32mif\u001b[0m \u001b[1;32mnot\u001b[0m \u001b[0mno_val_X\u001b[0m \u001b[1;32mand\u001b[0m \u001b[0mcheck_params\u001b[0m\u001b[1;33m.\u001b[0m\u001b[0mget\u001b[0m\u001b[1;33m(\u001b[0m\u001b[1;34m\"ensure_2d\"\u001b[0m\u001b[1;33m,\u001b[0m \u001b[1;32mTrue\u001b[0m\u001b[1;33m)\u001b[0m\u001b[1;33m:\u001b[0m\u001b[1;33m\u001b[0m\u001b[1;33m\u001b[0m\u001b[0m\n\u001b[1;32m--> 585\u001b[1;33m             \u001b[0mself\u001b[0m\u001b[1;33m.\u001b[0m\u001b[0m_check_n_features\u001b[0m\u001b[1;33m(\u001b[0m\u001b[0mX\u001b[0m\u001b[1;33m,\u001b[0m \u001b[0mreset\u001b[0m\u001b[1;33m=\u001b[0m\u001b[0mreset\u001b[0m\u001b[1;33m)\u001b[0m\u001b[1;33m\u001b[0m\u001b[1;33m\u001b[0m\u001b[0m\n\u001b[0m\u001b[0;32m    586\u001b[0m \u001b[1;33m\u001b[0m\u001b[0m\n\u001b[0;32m    587\u001b[0m         \u001b[1;32mreturn\u001b[0m \u001b[0mout\u001b[0m\u001b[1;33m\u001b[0m\u001b[1;33m\u001b[0m\u001b[0m\n",
            "\u001b[1;32mC:\\ProgramData\\Anaconda3\\lib\\site-packages\\sklearn\\base.py\u001b[0m in \u001b[0;36m_check_n_features\u001b[1;34m(self, X, reset)\u001b[0m\n\u001b[0;32m    398\u001b[0m \u001b[1;33m\u001b[0m\u001b[0m\n\u001b[0;32m    399\u001b[0m         \u001b[1;32mif\u001b[0m \u001b[0mn_features\u001b[0m \u001b[1;33m!=\u001b[0m \u001b[0mself\u001b[0m\u001b[1;33m.\u001b[0m\u001b[0mn_features_in_\u001b[0m\u001b[1;33m:\u001b[0m\u001b[1;33m\u001b[0m\u001b[1;33m\u001b[0m\u001b[0m\n\u001b[1;32m--> 400\u001b[1;33m             raise ValueError(\n\u001b[0m\u001b[0;32m    401\u001b[0m                 \u001b[1;34mf\"X has {n_features} features, but {self.__class__.__name__} \"\u001b[0m\u001b[1;33m\u001b[0m\u001b[1;33m\u001b[0m\u001b[0m\n\u001b[0;32m    402\u001b[0m                 \u001b[1;34mf\"is expecting {self.n_features_in_} features as input.\"\u001b[0m\u001b[1;33m\u001b[0m\u001b[1;33m\u001b[0m\u001b[0m\n",
            "\u001b[1;31mValueError\u001b[0m: X has 4 features, but AdaBoostRegressor is expecting 1 features as input."
          ]
        }
      ],
      "source": [
        "best_predictor = AdaBoostRegressor()\n",
        "best_predictor.fit(univ_X, univ_y)\n",
        "pred_vals = np.round(best_predictor.predict(area_df),2)\n",
        "pred_val"
      ]
    },
    {
      "cell_type": "code",
      "execution_count": null,
      "metadata": {
        "id": "Dg8D3pgocfpp"
      },
      "outputs": [],
      "source": [
        "selected_feature = 'area'"
      ]
    },
    {
      "cell_type": "code",
      "execution_count": null,
      "metadata": {
        "id": "iSdR-65ecfpz"
      },
      "outputs": [],
      "source": [
        "area_df_selected = area_df[[selected_feature]]"
      ]
    },
    {
      "cell_type": "code",
      "execution_count": null,
      "metadata": {
        "id": "saHoh4wfcfp2"
      },
      "outputs": [],
      "source": [
        "selected_pred_vals = np.round(best_predictor.predict(area_df_selected), 2)"
      ]
    },
    {
      "cell_type": "code",
      "execution_count": null,
      "metadata": {
        "id": "Lzjh4BnGcfp3"
      },
      "outputs": [],
      "source": []
    },
    {
      "cell_type": "code",
      "execution_count": null,
      "metadata": {
        "id": "etLfRlfKcfp3"
      },
      "outputs": [],
      "source": [
        "area_df['prices']=pred_vals\n",
        "area_df"
      ]
    },
    {
      "cell_type": "code",
      "execution_count": null,
      "metadata": {
        "id": "kLw0NPSEcfp6"
      },
      "outputs": [],
      "source": [
        "area_df.to_csv(\"prediction.csv\")\n",
        "print(\"prediction.csv file successfully created\")"
      ]
    },
    {
      "cell_type": "code",
      "execution_count": null,
      "metadata": {
        "id": "MBbuf8v7cfp9"
      },
      "outputs": [],
      "source": []
    },
    {
      "cell_type": "markdown",
      "metadata": {
        "id": "ZRQx-Xa0cfqI"
      },
      "source": [
        "## Bivariate Analysis"
      ]
    },
    {
      "cell_type": "code",
      "execution_count": null,
      "metadata": {
        "id": "fbUt5wYScfqK"
      },
      "outputs": [],
      "source": []
    },
    {
      "cell_type": "markdown",
      "metadata": {
        "id": "R8w4q-HMcfqX"
      },
      "source": [
        "### Below is the table containing home prices in monroe twp, NJ. Here price depends on area (square feet), bed rooms and age of the home (in years). Given these prices we have to predict prices of new homes based on area and age."
      ]
    },
    {
      "cell_type": "markdown",
      "metadata": {
        "id": "0eQl7ApJcfqY"
      },
      "source": [
        "![image.png](attachment:image.png)"
      ]
    },
    {
      "cell_type": "markdown",
      "metadata": {
        "id": "9sBqpJ0JcfqZ"
      },
      "source": [
        "![image.png](attachment:image.png)"
      ]
    },
    {
      "cell_type": "code",
      "execution_count": null,
      "metadata": {
        "id": "gdmFHLkXcfqZ"
      },
      "outputs": [],
      "source": [
        "# 1. For the first case we compare the area and age (independent) with price(dependent)"
      ]
    },
    {
      "cell_type": "code",
      "execution_count": null,
      "metadata": {
        "id": "DzBGyImdcfrQ",
        "outputId": "96fecad6-5cf9-44b9-96f7-eac3cc82eac0"
      },
      "outputs": [
        {
          "data": {
            "text/html": [
              "<div>\n",
              "<style scoped>\n",
              "    .dataframe tbody tr th:only-of-type {\n",
              "        vertical-align: middle;\n",
              "    }\n",
              "\n",
              "    .dataframe tbody tr th {\n",
              "        vertical-align: top;\n",
              "    }\n",
              "\n",
              "    .dataframe thead th {\n",
              "        text-align: right;\n",
              "    }\n",
              "</style>\n",
              "<table border=\"1\" class=\"dataframe\">\n",
              "  <thead>\n",
              "    <tr style=\"text-align: right;\">\n",
              "      <th></th>\n",
              "      <th>area</th>\n",
              "      <th>age</th>\n",
              "      <th>price</th>\n",
              "    </tr>\n",
              "  </thead>\n",
              "  <tbody>\n",
              "    <tr>\n",
              "      <th>0</th>\n",
              "      <td>2600</td>\n",
              "      <td>20</td>\n",
              "      <td>550000</td>\n",
              "    </tr>\n",
              "    <tr>\n",
              "      <th>1</th>\n",
              "      <td>3000</td>\n",
              "      <td>15</td>\n",
              "      <td>565000</td>\n",
              "    </tr>\n",
              "    <tr>\n",
              "      <th>2</th>\n",
              "      <td>3200</td>\n",
              "      <td>18</td>\n",
              "      <td>610000</td>\n",
              "    </tr>\n",
              "    <tr>\n",
              "      <th>3</th>\n",
              "      <td>4000</td>\n",
              "      <td>8</td>\n",
              "      <td>760000</td>\n",
              "    </tr>\n",
              "    <tr>\n",
              "      <th>4</th>\n",
              "      <td>4100</td>\n",
              "      <td>8</td>\n",
              "      <td>810000</td>\n",
              "    </tr>\n",
              "  </tbody>\n",
              "</table>\n",
              "</div>"
            ],
            "text/plain": [
              "   area  age   price\n",
              "0  2600   20  550000\n",
              "1  3000   15  565000\n",
              "2  3200   18  610000\n",
              "3  4000    8  760000\n",
              "4  4100    8  810000"
            ]
          },
          "execution_count": 82,
          "metadata": {},
          "output_type": "execute_result"
        }
      ],
      "source": [
        "bivariate_df = df[['area', 'age', 'price']][0:5]\n",
        "bivariate_df"
      ]
    },
    {
      "cell_type": "code",
      "execution_count": null,
      "metadata": {
        "id": "_Hj3QPXUcfrb",
        "outputId": "5e3a26bb-8b92-4650-956c-69b6fbbed510"
      },
      "outputs": [
        {
          "data": {
            "text/html": [
              "<div>\n",
              "<style scoped>\n",
              "    .dataframe tbody tr th:only-of-type {\n",
              "        vertical-align: middle;\n",
              "    }\n",
              "\n",
              "    .dataframe tbody tr th {\n",
              "        vertical-align: top;\n",
              "    }\n",
              "\n",
              "    .dataframe thead th {\n",
              "        text-align: right;\n",
              "    }\n",
              "</style>\n",
              "<table border=\"1\" class=\"dataframe\">\n",
              "  <thead>\n",
              "    <tr style=\"text-align: right;\">\n",
              "      <th></th>\n",
              "      <th>area</th>\n",
              "      <th>age</th>\n",
              "    </tr>\n",
              "  </thead>\n",
              "  <tbody>\n",
              "    <tr>\n",
              "      <th>0</th>\n",
              "      <td>2600</td>\n",
              "      <td>20</td>\n",
              "    </tr>\n",
              "    <tr>\n",
              "      <th>1</th>\n",
              "      <td>3000</td>\n",
              "      <td>15</td>\n",
              "    </tr>\n",
              "    <tr>\n",
              "      <th>2</th>\n",
              "      <td>3200</td>\n",
              "      <td>18</td>\n",
              "    </tr>\n",
              "    <tr>\n",
              "      <th>3</th>\n",
              "      <td>4000</td>\n",
              "      <td>8</td>\n",
              "    </tr>\n",
              "    <tr>\n",
              "      <th>4</th>\n",
              "      <td>4100</td>\n",
              "      <td>8</td>\n",
              "    </tr>\n",
              "  </tbody>\n",
              "</table>\n",
              "</div>"
            ],
            "text/plain": [
              "   area  age\n",
              "0  2600   20\n",
              "1  3000   15\n",
              "2  3200   18\n",
              "3  4000    8\n",
              "4  4100    8"
            ]
          },
          "execution_count": 83,
          "metadata": {},
          "output_type": "execute_result"
        }
      ],
      "source": [
        "# Extracting the dependent variables (area and price)\n",
        "biv_X = bivariate_df[['area','age']]\n",
        "biv_X"
      ]
    },
    {
      "cell_type": "code",
      "execution_count": null,
      "metadata": {
        "id": "milXCl2lcfrc",
        "outputId": "e4135baf-9aec-45d7-978d-cc73eb75f6f8"
      },
      "outputs": [
        {
          "data": {
            "text/plain": [
              "0    550000\n",
              "1    565000\n",
              "2    610000\n",
              "3    760000\n",
              "4    810000\n",
              "Name: price, dtype: int64"
            ]
          },
          "execution_count": 84,
          "metadata": {},
          "output_type": "execute_result"
        }
      ],
      "source": [
        "# Extracting the dependent variable (price)\n",
        "biv_y = df['price'][0:5]\n",
        "biv_y"
      ]
    },
    {
      "cell_type": "code",
      "execution_count": null,
      "metadata": {
        "id": "t8bQBq44cfre"
      },
      "outputs": [],
      "source": []
    },
    {
      "cell_type": "code",
      "execution_count": null,
      "metadata": {
        "id": "7pApfqrIcfrf"
      },
      "outputs": [],
      "source": [
        "# Create a dataframe to store the model training performance\n",
        "regressor_index = 0 # for counting iterations\n",
        "biv_performance_df = pd.DataFrame(columns=\n",
        "                        ['train_time','train_score','test_y','test_pred','pred_error(%)','model'])"
      ]
    },
    {
      "cell_type": "code",
      "execution_count": null,
      "metadata": {
        "id": "tLpB5ju2cfrg",
        "outputId": "4a0e812e-6c8b-40ef-eaa7-d97693b70abd"
      },
      "outputs": [
        {
          "ename": "ValueError",
          "evalue": "Length of values (5) does not match length of index (6)",
          "output_type": "error",
          "traceback": [
            "\u001b[1;31m---------------------------------------------------------------------------\u001b[0m",
            "\u001b[1;31mValueError\u001b[0m                                Traceback (most recent call last)",
            "\u001b[1;32m~\\AppData\\Local\\Temp\\ipykernel_6560\\4229274275.py\u001b[0m in \u001b[0;36m<module>\u001b[1;34m\u001b[0m\n\u001b[0;32m     11\u001b[0m     \u001b[0my_pred\u001b[0m \u001b[1;33m=\u001b[0m \u001b[0mmodel\u001b[0m\u001b[1;33m.\u001b[0m\u001b[0mpredict\u001b[0m\u001b[1;33m(\u001b[0m\u001b[0mdf\u001b[0m\u001b[1;33m[\u001b[0m\u001b[1;33m[\u001b[0m\u001b[1;34m'area'\u001b[0m\u001b[1;33m,\u001b[0m\u001b[1;34m'age'\u001b[0m\u001b[1;33m]\u001b[0m\u001b[1;33m]\u001b[0m\u001b[1;33m[\u001b[0m\u001b[1;36m0\u001b[0m\u001b[1;33m:\u001b[0m\u001b[1;36m5\u001b[0m\u001b[1;33m]\u001b[0m\u001b[1;33m)\u001b[0m\u001b[1;33m\u001b[0m\u001b[1;33m\u001b[0m\u001b[0m\n\u001b[0;32m     12\u001b[0m     \u001b[0mfinal_df\u001b[0m \u001b[1;33m=\u001b[0m \u001b[0munivariate_df\u001b[0m\u001b[1;33m.\u001b[0m\u001b[0mcopy\u001b[0m\u001b[1;33m(\u001b[0m\u001b[1;33m)\u001b[0m\u001b[1;33m\u001b[0m\u001b[1;33m\u001b[0m\u001b[0m\n\u001b[1;32m---> 13\u001b[1;33m     \u001b[0mfinal_df\u001b[0m\u001b[1;33m[\u001b[0m\u001b[1;34m'y_predict'\u001b[0m\u001b[1;33m]\u001b[0m \u001b[1;33m=\u001b[0m \u001b[0mnp\u001b[0m\u001b[1;33m.\u001b[0m\u001b[0mround\u001b[0m\u001b[1;33m(\u001b[0m\u001b[0my_pred\u001b[0m\u001b[1;33m)\u001b[0m\u001b[1;33m\u001b[0m\u001b[1;33m\u001b[0m\u001b[0m\n\u001b[0m\u001b[0;32m     14\u001b[0m     \u001b[0mpredict_time\u001b[0m \u001b[1;33m=\u001b[0m \u001b[0mtime\u001b[0m\u001b[1;33m(\u001b[0m\u001b[1;33m)\u001b[0m\u001b[1;33m-\u001b[0m\u001b[0mstart\u001b[0m \u001b[1;31m# Prediction time ended\u001b[0m\u001b[1;33m\u001b[0m\u001b[1;33m\u001b[0m\u001b[0m\n\u001b[0;32m     15\u001b[0m \u001b[1;33m\u001b[0m\u001b[0m\n",
            "\u001b[1;32mC:\\ProgramData\\Anaconda3\\lib\\site-packages\\pandas\\core\\frame.py\u001b[0m in \u001b[0;36m__setitem__\u001b[1;34m(self, key, value)\u001b[0m\n\u001b[0;32m   3653\u001b[0m         \u001b[1;32melse\u001b[0m\u001b[1;33m:\u001b[0m\u001b[1;33m\u001b[0m\u001b[1;33m\u001b[0m\u001b[0m\n\u001b[0;32m   3654\u001b[0m             \u001b[1;31m# set column\u001b[0m\u001b[1;33m\u001b[0m\u001b[1;33m\u001b[0m\u001b[0m\n\u001b[1;32m-> 3655\u001b[1;33m             \u001b[0mself\u001b[0m\u001b[1;33m.\u001b[0m\u001b[0m_set_item\u001b[0m\u001b[1;33m(\u001b[0m\u001b[0mkey\u001b[0m\u001b[1;33m,\u001b[0m \u001b[0mvalue\u001b[0m\u001b[1;33m)\u001b[0m\u001b[1;33m\u001b[0m\u001b[1;33m\u001b[0m\u001b[0m\n\u001b[0m\u001b[0;32m   3656\u001b[0m \u001b[1;33m\u001b[0m\u001b[0m\n\u001b[0;32m   3657\u001b[0m     \u001b[1;32mdef\u001b[0m \u001b[0m_setitem_slice\u001b[0m\u001b[1;33m(\u001b[0m\u001b[0mself\u001b[0m\u001b[1;33m,\u001b[0m \u001b[0mkey\u001b[0m\u001b[1;33m:\u001b[0m \u001b[0mslice\u001b[0m\u001b[1;33m,\u001b[0m \u001b[0mvalue\u001b[0m\u001b[1;33m)\u001b[0m\u001b[1;33m:\u001b[0m\u001b[1;33m\u001b[0m\u001b[1;33m\u001b[0m\u001b[0m\n",
            "\u001b[1;32mC:\\ProgramData\\Anaconda3\\lib\\site-packages\\pandas\\core\\frame.py\u001b[0m in \u001b[0;36m_set_item\u001b[1;34m(self, key, value)\u001b[0m\n\u001b[0;32m   3830\u001b[0m         \u001b[0mensure\u001b[0m \u001b[0mhomogeneity\u001b[0m\u001b[1;33m.\u001b[0m\u001b[1;33m\u001b[0m\u001b[1;33m\u001b[0m\u001b[0m\n\u001b[0;32m   3831\u001b[0m         \"\"\"\n\u001b[1;32m-> 3832\u001b[1;33m         \u001b[0mvalue\u001b[0m \u001b[1;33m=\u001b[0m \u001b[0mself\u001b[0m\u001b[1;33m.\u001b[0m\u001b[0m_sanitize_column\u001b[0m\u001b[1;33m(\u001b[0m\u001b[0mvalue\u001b[0m\u001b[1;33m)\u001b[0m\u001b[1;33m\u001b[0m\u001b[1;33m\u001b[0m\u001b[0m\n\u001b[0m\u001b[0;32m   3833\u001b[0m \u001b[1;33m\u001b[0m\u001b[0m\n\u001b[0;32m   3834\u001b[0m         if (\n",
            "\u001b[1;32mC:\\ProgramData\\Anaconda3\\lib\\site-packages\\pandas\\core\\frame.py\u001b[0m in \u001b[0;36m_sanitize_column\u001b[1;34m(self, value)\u001b[0m\n\u001b[0;32m   4536\u001b[0m \u001b[1;33m\u001b[0m\u001b[0m\n\u001b[0;32m   4537\u001b[0m         \u001b[1;32mif\u001b[0m \u001b[0mis_list_like\u001b[0m\u001b[1;33m(\u001b[0m\u001b[0mvalue\u001b[0m\u001b[1;33m)\u001b[0m\u001b[1;33m:\u001b[0m\u001b[1;33m\u001b[0m\u001b[1;33m\u001b[0m\u001b[0m\n\u001b[1;32m-> 4538\u001b[1;33m             \u001b[0mcom\u001b[0m\u001b[1;33m.\u001b[0m\u001b[0mrequire_length_match\u001b[0m\u001b[1;33m(\u001b[0m\u001b[0mvalue\u001b[0m\u001b[1;33m,\u001b[0m \u001b[0mself\u001b[0m\u001b[1;33m.\u001b[0m\u001b[0mindex\u001b[0m\u001b[1;33m)\u001b[0m\u001b[1;33m\u001b[0m\u001b[1;33m\u001b[0m\u001b[0m\n\u001b[0m\u001b[0;32m   4539\u001b[0m         \u001b[1;32mreturn\u001b[0m \u001b[0msanitize_array\u001b[0m\u001b[1;33m(\u001b[0m\u001b[0mvalue\u001b[0m\u001b[1;33m,\u001b[0m \u001b[0mself\u001b[0m\u001b[1;33m.\u001b[0m\u001b[0mindex\u001b[0m\u001b[1;33m,\u001b[0m \u001b[0mcopy\u001b[0m\u001b[1;33m=\u001b[0m\u001b[1;32mTrue\u001b[0m\u001b[1;33m,\u001b[0m \u001b[0mallow_2d\u001b[0m\u001b[1;33m=\u001b[0m\u001b[1;32mTrue\u001b[0m\u001b[1;33m)\u001b[0m\u001b[1;33m\u001b[0m\u001b[1;33m\u001b[0m\u001b[0m\n\u001b[0;32m   4540\u001b[0m \u001b[1;33m\u001b[0m\u001b[0m\n",
            "\u001b[1;32mC:\\ProgramData\\Anaconda3\\lib\\site-packages\\pandas\\core\\common.py\u001b[0m in \u001b[0;36mrequire_length_match\u001b[1;34m(data, index)\u001b[0m\n\u001b[0;32m    555\u001b[0m     \"\"\"\n\u001b[0;32m    556\u001b[0m     \u001b[1;32mif\u001b[0m \u001b[0mlen\u001b[0m\u001b[1;33m(\u001b[0m\u001b[0mdata\u001b[0m\u001b[1;33m)\u001b[0m \u001b[1;33m!=\u001b[0m \u001b[0mlen\u001b[0m\u001b[1;33m(\u001b[0m\u001b[0mindex\u001b[0m\u001b[1;33m)\u001b[0m\u001b[1;33m:\u001b[0m\u001b[1;33m\u001b[0m\u001b[1;33m\u001b[0m\u001b[0m\n\u001b[1;32m--> 557\u001b[1;33m         raise ValueError(\n\u001b[0m\u001b[0;32m    558\u001b[0m             \u001b[1;34m\"Length of values \"\u001b[0m\u001b[1;33m\u001b[0m\u001b[1;33m\u001b[0m\u001b[0m\n\u001b[0;32m    559\u001b[0m             \u001b[1;34mf\"({len(data)}) \"\u001b[0m\u001b[1;33m\u001b[0m\u001b[1;33m\u001b[0m\u001b[0m\n",
            "\u001b[1;31mValueError\u001b[0m: Length of values (5) does not match length of index (6)"
          ]
        }
      ],
      "source": [
        "test_X = [[3600,30]]\n",
        "test_y = 595000\n",
        "\n",
        "for model in linear_regressors:\n",
        "    start = time() # Training time started\n",
        "    model.fit(biv_X, biv_y)\n",
        "    train_time = time() - start # Training time ended\n",
        "    train_score = np.round(model.score(biv_X, biv_y)*100,2)\n",
        "\n",
        "    start = time() # Prediction time started\n",
        "    y_pred = model.predict(df[['area','age']][0:5])\n",
        "    final_df = univariate_df.copy()\n",
        "    final_df['y_predict'] = np.round(y_pred)\n",
        "    predict_time = time()-start # Prediction time ended\n",
        "\n",
        "    print(model)\n",
        "    print(\"Training time: %0.3fs\" % train_time)\n",
        "    #print(final_df)\n",
        "\n",
        "    # Prediction with the test_X = [[3600]].\n",
        "    test_pred = np.round(model.predict(test_X),2)\n",
        "    print(f'Actual value: {test_y}, Predicted value: {test_pred}')\n",
        "\n",
        "\n",
        "    pred_error = np.round(((test_y/test_pred)-1)*100,2)\n",
        "    print(f'Prediction error: {pred_error}%')\n",
        "    print(\"Prediction time: %0.3fs\" % predict_time)\n",
        "    print(\"R2 training score:\", model.score(biv_X, biv_y)*100)\n",
        "\n",
        "    biv_performance_df.loc[regressor_index] = \\\n",
        "                            [train_time,train_score,test_y,test_pred.item(),pred_error.item(),model]\n",
        "    regressor_index += 1\n",
        "\n",
        "    print()\n",
        "print('Simulation Completed')\n"
      ]
    },
    {
      "cell_type": "code",
      "execution_count": null,
      "metadata": {
        "id": "dibqx7PWcfrr"
      },
      "outputs": [],
      "source": [
        "biv_performance_df"
      ]
    },
    {
      "cell_type": "code",
      "execution_count": null,
      "metadata": {
        "id": "lbYPoZ2Gcfrv"
      },
      "outputs": [],
      "source": []
    },
    {
      "cell_type": "code",
      "execution_count": null,
      "metadata": {
        "id": "jpbWnHA-cfr5"
      },
      "outputs": [],
      "source": [
        "test_X = [[3600,30]]\n",
        "test_y = 595000\n",
        "\n",
        "for model in ensemble_regressors:\n",
        "    start = time() # Training time started\n",
        "    model.fit(biv_X, biv_y)\n",
        "    train_time = time() - start # Training time ended\n",
        "    train_score = np.round(model.score(biv_X, biv_y)*100,2)\n",
        "\n",
        "    start = time() # Prediction time started\n",
        "    y_pred = model.predict(df[['area','age']][0:5])\n",
        "    final_df = univariate_df.copy()\n",
        "    final_df['y_predict'] = np.round(y_pred)\n",
        "    predict_time = time()-start # Prediction time ended\n",
        "\n",
        "    print(model)\n",
        "    print(\"Training time: %0.3fs\" % train_time)\n",
        "    #print(final_df)\n",
        "\n",
        "    # Prediction with the test_X = [[3600]].\n",
        "    test_pred = np.round(model.predict(test_X),2)\n",
        "    print(f'Actual value: {test_y}, Predicted value: {test_pred}')\n",
        "\n",
        "\n",
        "    pred_error = np.round(((test_y/test_pred)-1)*100,2)\n",
        "    print(f'Prediction error: {pred_error}%')\n",
        "    print(\"Prediction time: %0.3fs\" % predict_time)\n",
        "    print(\"R2 training score:\", model.score(biv_X, biv_y)*100)\n",
        "\n",
        "    biv_performance_df.loc[regressor_index] = \\\n",
        "                            [train_time,train_score,test_y,test_pred.item(),pred_error.item(),model]\n",
        "    regressor_index += 1\n",
        "\n",
        "    print()\n",
        "print('Simulation Completed')"
      ]
    },
    {
      "cell_type": "code",
      "execution_count": null,
      "metadata": {
        "id": "X8Agfee3cfr-"
      },
      "outputs": [],
      "source": []
    },
    {
      "cell_type": "code",
      "execution_count": null,
      "metadata": {
        "id": "n_OEudUmcfsA"
      },
      "outputs": [],
      "source": [
        "# Printing the Dataframe and sorting in decending order by training score\n",
        "biv_performance_df.sort_values(by=['train_score','pred_error(%)'], ascending=False)"
      ]
    },
    {
      "cell_type": "code",
      "execution_count": null,
      "metadata": {
        "id": "nyTMKnFCcfsB"
      },
      "outputs": [],
      "source": []
    },
    {
      "cell_type": "markdown",
      "metadata": {
        "id": "1ipmQllxcfsC"
      },
      "source": [
        "### (1) Predict price of a home with area = 5000 sqr ft and age = 12"
      ]
    },
    {
      "cell_type": "code",
      "execution_count": null,
      "metadata": {
        "id": "CuxOOFWocfsC"
      },
      "outputs": [],
      "source": []
    },
    {
      "cell_type": "code",
      "execution_count": null,
      "metadata": {
        "id": "dWph2uLzcfsJ"
      },
      "outputs": [],
      "source": [
        "biv_predictor = GradientBoostingRegressor(learning_rate=0.3)\n",
        "biv_predictor.fit(biv_X, biv_y)"
      ]
    },
    {
      "cell_type": "code",
      "execution_count": null,
      "metadata": {
        "id": "zxow16n3cfsK"
      },
      "outputs": [],
      "source": [
        "biv_predictor_score = biv_predictor.score(biv_X, biv_y)\n",
        "biv_predictor.predict([[5000,12]])"
      ]
    },
    {
      "cell_type": "code",
      "execution_count": null,
      "metadata": {
        "id": "L619yKHVcfsL"
      },
      "outputs": [],
      "source": []
    },
    {
      "cell_type": "markdown",
      "metadata": {
        "id": "VWlqyqBScfsP"
      },
      "source": [
        "<h2 style=\"color:green\" align=\"center\"> Machine Learning With Python: Linear Regression Multiple Variables</h2>"
      ]
    },
    {
      "cell_type": "markdown",
      "metadata": {
        "id": "1jvadv4CcfsQ"
      },
      "source": [
        "<h3 style=\"color:purple\">Sample problem of predicting home price in monroe, new jersey (USA)</h3>"
      ]
    },
    {
      "cell_type": "markdown",
      "metadata": {
        "id": "kP9Kl8IZcfsR"
      },
      "source": [
        "Below is the table containing home prices in monroe twp, NJ. Here price depends on area (square feet), bed rooms and age of the home (in years). Given these prices we have to predict prices of new homes based on area, bed rooms and age."
      ]
    },
    {
      "cell_type": "markdown",
      "metadata": {
        "id": "_4pPl8z7cfsS"
      },
      "source": [
        "![homeprices.jpg](attachment:homeprices.jpg)"
      ]
    },
    {
      "cell_type": "markdown",
      "metadata": {
        "id": "saiaLq2icfsf"
      },
      "source": [
        "Given these home prices find out price of a home that has,\n",
        "\n",
        "**3000 sqr ft area, 3 bedrooms, 40 year old**\n",
        "\n",
        "**2500 sqr ft area, 4 bedrooms,  5 year old**"
      ]
    },
    {
      "cell_type": "markdown",
      "metadata": {
        "id": "Arz7Sj2scftF"
      },
      "source": [
        "#### We will use regression with multiple variables here. Price can be calculated using following equation,\n"
      ]
    },
    {
      "cell_type": "markdown",
      "metadata": {
        "id": "_KTnEwLMcftJ"
      },
      "source": [
        "![equation.jpg](attachment:equation.jpg)"
      ]
    },
    {
      "cell_type": "code",
      "execution_count": null,
      "metadata": {
        "id": "tGsTOI_mcftM"
      },
      "outputs": [],
      "source": [
        "multivariate_df = df[['area', 'bedrooms', 'age', 'price']]\n",
        "multivariate_df"
      ]
    },
    {
      "cell_type": "code",
      "execution_count": null,
      "metadata": {
        "id": "2Z55UPamcftN"
      },
      "outputs": [],
      "source": [
        "# Extracting the column names\n",
        "multivariate_df.columns"
      ]
    },
    {
      "cell_type": "code",
      "execution_count": null,
      "metadata": {
        "id": "oipJJfn5cftO"
      },
      "outputs": [],
      "source": [
        "# Identifiying columns with Nan Values\n",
        "for cols in multivariate_df.columns:\n",
        "    print(f'\\t{cols:<10}: {multivariate_df[cols].isna().sum()} NaN Values')"
      ]
    },
    {
      "cell_type": "code",
      "execution_count": null,
      "metadata": {
        "id": "HBBj5Bf5cftP"
      },
      "outputs": [],
      "source": []
    },
    {
      "cell_type": "markdown",
      "metadata": {
        "id": "ShIXjuozcftP"
      },
      "source": [
        "### Data Preprocessing: Fill NA values with median value of a column"
      ]
    },
    {
      "cell_type": "code",
      "execution_count": null,
      "metadata": {
        "id": "3aAK74w6cftQ"
      },
      "outputs": [],
      "source": [
        "multivariate_df.bedrooms.median()"
      ]
    },
    {
      "cell_type": "code",
      "execution_count": null,
      "metadata": {
        "id": "c6mVDj8dcftR"
      },
      "outputs": [],
      "source": [
        "multivariate_df.bedrooms = multivariate_df.bedrooms.fillna(multivariate_df.bedrooms.median())\n",
        "multivariate_df"
      ]
    },
    {
      "cell_type": "code",
      "execution_count": null,
      "metadata": {
        "id": "3KKLn5S0cftT"
      },
      "outputs": [],
      "source": [
        "# Identifiying columns with Nan Values\n",
        "for cols in multivariate_df.columns:\n",
        "    print(f'\\t{cols:<10}: {multivariate_df[cols].isna().sum()} NaN Values')"
      ]
    },
    {
      "cell_type": "code",
      "execution_count": null,
      "metadata": {
        "id": "I__ej__VcftW"
      },
      "outputs": [],
      "source": [
        "# Extracting the dependent variables (area and price)\n",
        "multiv_X = multivariate_df[['area','bedrooms','age']]\n",
        "multiv_X"
      ]
    },
    {
      "cell_type": "code",
      "execution_count": null,
      "metadata": {
        "id": "ufEu2Kekcfte"
      },
      "outputs": [],
      "source": [
        "# Extracting the dependent variable (price)\n",
        "multiv_y = multivariate_df['price']\n",
        "multiv_y"
      ]
    },
    {
      "cell_type": "code",
      "execution_count": null,
      "metadata": {
        "id": "4KT7mn4ycftf"
      },
      "outputs": [],
      "source": [
        "# Create a list of the available linear regressor models\n",
        "linear_regressors = [\n",
        "    ARDRegression(),\n",
        "    HuberRegressor(),\n",
        "    LinearRegression(),\n",
        "    PassiveAggressiveRegressor(),\n",
        "    RANSACRegressor(),\n",
        "    Ridge(),\n",
        "    Lasso(),\n",
        "    #SGDRegressor(),\n",
        "    TheilSenRegressor(),\n",
        "    TweedieRegressor()\n",
        "    ]"
      ]
    },
    {
      "cell_type": "code",
      "execution_count": null,
      "metadata": {
        "id": "5mi6Moigcftg"
      },
      "outputs": [],
      "source": [
        "# Create a list of the available ensemble regressor models\n",
        "reg1 = GradientBoostingRegressor(random_state=1)\n",
        "reg2 = RandomForestRegressor(random_state=1)\n",
        "\n",
        "ensemble_regressors = [\n",
        "    ExtraTreesRegressor(),\n",
        "    BaggingRegressor(base_estimator=ExtraTreesRegressor()),\n",
        "    GradientBoostingRegressor(learning_rate=0.3),\n",
        "    DecisionTreeRegressor(),\n",
        "    RandomForestRegressor(),\n",
        "    AdaBoostRegressor(),\n",
        "    KNeighborsRegressor(),\n",
        "    VotingRegressor([(\"gb\", reg1), (\"rf\", reg2)])\n",
        "]"
      ]
    },
    {
      "cell_type": "code",
      "execution_count": null,
      "metadata": {
        "id": "vmACoF0Zcfti"
      },
      "outputs": [],
      "source": []
    },
    {
      "cell_type": "code",
      "execution_count": null,
      "metadata": {
        "id": "G_n3eykDcftm"
      },
      "outputs": [],
      "source": [
        "# Extracting the training data from the Dataframe\n",
        "train_X = multiv_X[0:5] # row o to 4 (5 records)\n",
        "train_y = multiv_y[0:5] # row o to 4 (5 records)"
      ]
    },
    {
      "cell_type": "code",
      "execution_count": null,
      "metadata": {
        "id": "HPJ55Fdxcftt"
      },
      "outputs": [],
      "source": [
        "train_X"
      ]
    },
    {
      "cell_type": "code",
      "execution_count": null,
      "metadata": {
        "id": "rQ5lgEa3cftu"
      },
      "outputs": [],
      "source": [
        "train_y"
      ]
    },
    {
      "cell_type": "code",
      "execution_count": null,
      "metadata": {
        "id": "wHMRcZDAcftv"
      },
      "outputs": [],
      "source": [
        "# Extracting the test data from the Dataframe\n",
        "test_X = multiv_X[5:] # row 5 toend (1 record)\n",
        "test_y = multiv_y[5:] # row 5 toend (1 record)\n",
        "test_X"
      ]
    },
    {
      "cell_type": "code",
      "execution_count": null,
      "metadata": {
        "id": "wFTXZGGtcftw"
      },
      "outputs": [],
      "source": [
        "test_y"
      ]
    },
    {
      "cell_type": "code",
      "execution_count": null,
      "metadata": {
        "id": "Nbam0pbycftx"
      },
      "outputs": [],
      "source": [
        "# Create a dataframe to store the model training performance\n",
        "regressor_index = 0 # for counting iterations\n",
        "multiv_performance_df = pd.DataFrame(columns=\n",
        "                        ['train_time','train_score','test_y','test_pred','pred_error(%)','model'])"
      ]
    },
    {
      "cell_type": "code",
      "execution_count": null,
      "metadata": {
        "id": "RQki7xOHcfty"
      },
      "outputs": [],
      "source": [
        "\n",
        "# Iterating over linear regressors\n",
        "for model in linear_regressors:\n",
        "    #Training the model (each regressors)\n",
        "    start = time()\n",
        "    model.fit(train_X, train_y)\n",
        "    train_time = time() - start\n",
        "    train_score = np.round(model.score(train_X, train_y)*100,2)\n",
        "\n",
        "    #predicting the entire train data\n",
        "    start = time()\n",
        "    y_pred = model.predict(train_X)\n",
        "    final_df = multivariate_df[0:5].copy()\n",
        "    final_df['y_predict'] = y_pred\n",
        "    print(model)\n",
        "    print(\"Training time: %0.3fs\" % train_time)\n",
        "    #print(final_df)\n",
        "\n",
        "    # Testing the model on test data\n",
        "    test_pred = np.round(model.predict(test_X),2)\n",
        "    #test_y.values[0] returns the actual test_y value: 595000\n",
        "    print(f'Actual value: {test_y.values[0]}, Predicted value: {np.round(test_pred[0])}')\n",
        "    predict_time = time()-start\n",
        "    pred_error = np.round(((test_y/test_pred)-1)*100,2)\n",
        "\n",
        "    #pred_error.item() is used to return item in an np array\n",
        "    print(f'Prediction error: {np.round(pred_error.item(),2)}%')\n",
        "    print(\"Prediction time: %0.3fs\" % predict_time)\n",
        "    print(f\"R2 training score: {np.round(model.score(train_X, train_y),4)*100}%\")\n",
        "    multiv_performance_df.loc[regressor_index] = \\\n",
        "                        [train_time,train_score,test_y.values[0],test_pred.item(),pred_error.item(),model]\n",
        "    regressor_index += 1\n",
        "    print()\n",
        "print('Simulation Completed')"
      ]
    },
    {
      "cell_type": "code",
      "execution_count": null,
      "metadata": {
        "id": "1iB43Rx5cftz"
      },
      "outputs": [],
      "source": [
        "multiv_performance_df.sort_values(by=['train_score','pred_error(%)'], ascending=False)"
      ]
    },
    {
      "cell_type": "code",
      "execution_count": null,
      "metadata": {
        "id": "ksYl7OJQcft0"
      },
      "outputs": [],
      "source": [
        "# Iterating over ensemble regressors\n",
        "for model in ensemble_regressors:\n",
        "    #Training the model (each regressors)\n",
        "    start = time()\n",
        "    model.fit(train_X, train_y)\n",
        "    train_time = time() - start\n",
        "    train_score = np.round(model.score(train_X, train_y)*100,2)\n",
        "\n",
        "    #predicting the entire train data\n",
        "    start = time()\n",
        "    y_pred = model.predict(train_X)\n",
        "    final_df = multivariate_df[0:5].copy()\n",
        "    final_df['y_predict'] = y_pred\n",
        "    print(model)\n",
        "    print(\"Training time: %0.3fs\" % train_time)\n",
        "    #print(final_df)\n",
        "\n",
        "    # Testing the model on test data\n",
        "    test_pred = np.round(model.predict(test_X),2)\n",
        "    #test_y.values[0] returns the actual test_y value: 595000\n",
        "    print(f'Actual value: {test_y.values[0]}, Predicted value: {np.round(test_pred[0])}')\n",
        "    predict_time = time()-start\n",
        "    pred_error = np.round(((test_y/test_pred)-1)*100,2)\n",
        "\n",
        "    #pred_error.item() is used to return item in an np array\n",
        "    print(f'Prediction error: {np.round(pred_error.item(),2)}%')\n",
        "    print(\"Prediction time: %0.3fs\" % predict_time)\n",
        "    print(f\"R2 training score: {np.round(model.score(train_X, train_y),4)*100}%\")\n",
        "    multiv_performance_df.loc[regressor_index] = \\\n",
        "                        [train_time,train_score,test_y.values[0],test_pred.item(),pred_error.item(),model]\n",
        "    regressor_index += 1\n",
        "    print()\n",
        "print('Simulation Completed')"
      ]
    },
    {
      "cell_type": "code",
      "execution_count": null,
      "metadata": {
        "id": "uE6TrL0Icft2"
      },
      "outputs": [],
      "source": [
        "multiv_performance_df.sort_values(by=['train_score','pred_error(%)'], ascending=False)"
      ]
    },
    {
      "cell_type": "code",
      "execution_count": null,
      "metadata": {
        "id": "sOZeOMxzcft9"
      },
      "outputs": [],
      "source": []
    },
    {
      "cell_type": "code",
      "execution_count": null,
      "metadata": {
        "id": "E6biJl1lcft9"
      },
      "outputs": [],
      "source": [
        "# Using the best model for prediction\n",
        "multivariate_predictor =  ExtraTreesRegressor(random_state=1720861042)\n",
        "multivariate_predictor.fit(train_X, train_y)"
      ]
    },
    {
      "cell_type": "code",
      "execution_count": null,
      "metadata": {
        "id": "8SW6HlsYcft-"
      },
      "outputs": [],
      "source": [
        "y_pred = multivariate_predictor.predict(multivariate_df[['area','bedrooms','age']][0:5])\n",
        "multivariate_df = df[0:5].copy()\n",
        "multivariate_df['y_predict'] = y_pred\n",
        "multivariate_df"
      ]
    },
    {
      "cell_type": "code",
      "execution_count": null,
      "metadata": {
        "id": "YL3vX4G0cft_"
      },
      "outputs": [],
      "source": []
    },
    {
      "cell_type": "markdown",
      "metadata": {
        "id": "dCXurrfIcfuA"
      },
      "source": [
        "**Find price of home with 3000 sqr ft area, 3 bedrooms, 40 year old**"
      ]
    },
    {
      "cell_type": "code",
      "execution_count": null,
      "metadata": {
        "id": "5hZEbwiLcfuB"
      },
      "outputs": [],
      "source": [
        "X_test =[[3000, 3, 40]]\n",
        "multivariate_predictor.predict(X_test)"
      ]
    },
    {
      "cell_type": "markdown",
      "metadata": {
        "id": "xCZEw4kpcfuD"
      },
      "source": [
        "**Find price of home with 2500 sqr ft area, 4 bedrooms,  5 year old**"
      ]
    },
    {
      "cell_type": "code",
      "execution_count": null,
      "metadata": {
        "id": "GFTS6xOdcfuU"
      },
      "outputs": [],
      "source": [
        "multivariate_predictor.predict([[2500, 4, 5]])"
      ]
    },
    {
      "cell_type": "code",
      "execution_count": null,
      "metadata": {
        "id": "1lqQozpScfuV"
      },
      "outputs": [],
      "source": []
    },
    {
      "cell_type": "code",
      "execution_count": null,
      "metadata": {
        "id": "-cpW8Qrwcfuh"
      },
      "outputs": [],
      "source": []
    }
  ],
  "metadata": {
    "kernelspec": {
      "display_name": "Python 3 (ipykernel)",
      "language": "python",
      "name": "python3"
    },
    "language_info": {
      "codemirror_mode": {
        "name": "ipython",
        "version": 3
      },
      "file_extension": ".py",
      "mimetype": "text/x-python",
      "name": "python",
      "nbconvert_exporter": "python",
      "pygments_lexer": "ipython3",
      "version": "3.9.13"
    },
    "colab": {
      "provenance": [],
      "include_colab_link": true
    }
  },
  "nbformat": 4,
  "nbformat_minor": 0
}